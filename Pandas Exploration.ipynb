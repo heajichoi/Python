{
 "cells": [
  {
   "cell_type": "markdown",
   "id": "1cfc1d16",
   "metadata": {},
   "source": [
    "# Pandas Exploration"
   ]
  },
  {
   "cell_type": "markdown",
   "id": "4dba627c",
   "metadata": {},
   "source": [
    "# import libraries"
   ]
  },
  {
   "cell_type": "code",
   "execution_count": 1,
   "id": "bd7bd2f8",
   "metadata": {},
   "outputs": [],
   "source": [
    "import pandas as pd\n",
    "import numpy as np"
   ]
  },
  {
   "cell_type": "markdown",
   "id": "6cff9b7e",
   "metadata": {},
   "source": [
    "# Series & Index 설정"
   ]
  },
  {
   "cell_type": "code",
   "execution_count": 2,
   "id": "49d08600",
   "metadata": {},
   "outputs": [],
   "source": [
    "obj = pd.Series([4, 7, -5, 3],index = ['a','b','c','d']) "
   ]
  },
  {
   "cell_type": "code",
   "execution_count": 3,
   "id": "22dd29d4",
   "metadata": {},
   "outputs": [
    {
     "data": {
      "text/plain": [
       "array([ 4,  7, -5,  3])"
      ]
     },
     "execution_count": 3,
     "metadata": {},
     "output_type": "execute_result"
    }
   ],
   "source": [
    "obj.values"
   ]
  },
  {
   "cell_type": "code",
   "execution_count": 4,
   "id": "691f1ba5",
   "metadata": {},
   "outputs": [
    {
     "data": {
      "text/plain": [
       "Index(['a', 'b', 'c', 'd'], dtype='object')"
      ]
     },
     "execution_count": 4,
     "metadata": {},
     "output_type": "execute_result"
    }
   ],
   "source": [
    "obj.index"
   ]
  },
  {
   "cell_type": "code",
   "execution_count": 5,
   "id": "7f198fd6",
   "metadata": {},
   "outputs": [
    {
     "data": {
      "text/plain": [
       "Kim        35000\n",
       "Beomwoo    67000\n",
       "Joan       12000\n",
       "Choi        4000\n",
       "dtype: int64"
      ]
     },
     "execution_count": 5,
     "metadata": {},
     "output_type": "execute_result"
    }
   ],
   "source": [
    "#Dict -> 자료형으로 변경하기\n",
    "sdata = {'Kim': 35000, 'Beomwoo': 67000, 'Joan': 12000, 'Choi': 4000}\n",
    "obj3 = pd.Series(sdata)\n",
    "obj3"
   ]
  },
  {
   "cell_type": "code",
   "execution_count": 6,
   "id": "8dd43355",
   "metadata": {},
   "outputs": [
    {
     "data": {
      "text/plain": [
       "Names\n",
       "Kim        35000\n",
       "Beomwoo    67000\n",
       "Joan       12000\n",
       "Choi        4000\n",
       "Name: NAME, dtype: int64"
      ]
     },
     "execution_count": 6,
     "metadata": {},
     "output_type": "execute_result"
    }
   ],
   "source": [
    "#이름 설정 & index 설정\n",
    "obj3.name = \"NAME\"\n",
    "obj3.index.name = \"Names\"\n",
    "obj3"
   ]
  },
  {
   "cell_type": "markdown",
   "id": "fdea8fc9",
   "metadata": {},
   "source": [
    "# DataFrame - series를 여러 개 합친"
   ]
  },
  {
   "cell_type": "code",
   "execution_count": 7,
   "id": "ea03c910",
   "metadata": {},
   "outputs": [
    {
     "data": {
      "text/html": [
       "<div>\n",
       "<style scoped>\n",
       "    .dataframe tbody tr th:only-of-type {\n",
       "        vertical-align: middle;\n",
       "    }\n",
       "\n",
       "    .dataframe tbody tr th {\n",
       "        vertical-align: top;\n",
       "    }\n",
       "\n",
       "    .dataframe thead th {\n",
       "        text-align: right;\n",
       "    }\n",
       "</style>\n",
       "<table border=\"1\" class=\"dataframe\">\n",
       "  <thead>\n",
       "    <tr style=\"text-align: right;\">\n",
       "      <th></th>\n",
       "      <th>c0</th>\n",
       "      <th>c1</th>\n",
       "      <th>c2</th>\n",
       "      <th>c3</th>\n",
       "      <th>c4</th>\n",
       "    </tr>\n",
       "  </thead>\n",
       "  <tbody>\n",
       "    <tr>\n",
       "      <th>0</th>\n",
       "      <td>1</td>\n",
       "      <td>4</td>\n",
       "      <td>7</td>\n",
       "      <td>10</td>\n",
       "      <td>13</td>\n",
       "    </tr>\n",
       "    <tr>\n",
       "      <th>1</th>\n",
       "      <td>2</td>\n",
       "      <td>5</td>\n",
       "      <td>8</td>\n",
       "      <td>11</td>\n",
       "      <td>14</td>\n",
       "    </tr>\n",
       "    <tr>\n",
       "      <th>2</th>\n",
       "      <td>3</td>\n",
       "      <td>6</td>\n",
       "      <td>9</td>\n",
       "      <td>12</td>\n",
       "      <td>15</td>\n",
       "    </tr>\n",
       "  </tbody>\n",
       "</table>\n",
       "</div>"
      ],
      "text/plain": [
       "   c0  c1  c2  c3  c4\n",
       "0   1   4   7  10  13\n",
       "1   2   5   8  11  14\n",
       "2   3   6   9  12  15"
      ]
     },
     "execution_count": 7,
     "metadata": {},
     "output_type": "execute_result"
    }
   ],
   "source": [
    "dict_data = {'c0':[1,2,3],'c1':[4,5,6],'c2':[7,8,9],'c3':[10,11,12],'c4':[13,14,15]}\n",
    "#DataFrame만들가\n",
    "df=pd.DataFrame(dict_data)\n",
    "df"
   ]
  },
  {
   "cell_type": "code",
   "execution_count": 8,
   "id": "5789303e",
   "metadata": {},
   "outputs": [
    {
     "data": {
      "text/html": [
       "<div>\n",
       "<style scoped>\n",
       "    .dataframe tbody tr th:only-of-type {\n",
       "        vertical-align: middle;\n",
       "    }\n",
       "\n",
       "    .dataframe tbody tr th {\n",
       "        vertical-align: top;\n",
       "    }\n",
       "\n",
       "    .dataframe thead th {\n",
       "        text-align: right;\n",
       "    }\n",
       "</style>\n",
       "<table border=\"1\" class=\"dataframe\">\n",
       "  <thead>\n",
       "    <tr style=\"text-align: right;\">\n",
       "      <th></th>\n",
       "      <th>1</th>\n",
       "      <th>2</th>\n",
       "      <th>3</th>\n",
       "      <th>4</th>\n",
       "      <th>5</th>\n",
       "    </tr>\n",
       "  </thead>\n",
       "  <tbody>\n",
       "    <tr>\n",
       "      <th>a</th>\n",
       "      <td>1</td>\n",
       "      <td>4</td>\n",
       "      <td>7</td>\n",
       "      <td>10</td>\n",
       "      <td>13</td>\n",
       "    </tr>\n",
       "    <tr>\n",
       "      <th>b</th>\n",
       "      <td>2</td>\n",
       "      <td>5</td>\n",
       "      <td>8</td>\n",
       "      <td>11</td>\n",
       "      <td>14</td>\n",
       "    </tr>\n",
       "    <tr>\n",
       "      <th>c</th>\n",
       "      <td>3</td>\n",
       "      <td>6</td>\n",
       "      <td>9</td>\n",
       "      <td>12</td>\n",
       "      <td>15</td>\n",
       "    </tr>\n",
       "  </tbody>\n",
       "</table>\n",
       "</div>"
      ],
      "text/plain": [
       "   1  2  3   4   5\n",
       "a  1  4  7  10  13\n",
       "b  2  5  8  11  14\n",
       "c  3  6  9  12  15"
      ]
     },
     "execution_count": 8,
     "metadata": {},
     "output_type": "execute_result"
    }
   ],
   "source": [
    "#열 이름 바꾸기\n",
    "df.columns = ['1','2','3','4','5']\n",
    "#행 이름 바꾸기\n",
    "df.index = ['a','b','c']\n",
    "df"
   ]
  },
  {
   "cell_type": "code",
   "execution_count": 9,
   "id": "4b001b28",
   "metadata": {},
   "outputs": [
    {
     "data": {
      "text/html": [
       "<div>\n",
       "<style scoped>\n",
       "    .dataframe tbody tr th:only-of-type {\n",
       "        vertical-align: middle;\n",
       "    }\n",
       "\n",
       "    .dataframe tbody tr th {\n",
       "        vertical-align: top;\n",
       "    }\n",
       "\n",
       "    .dataframe thead th {\n",
       "        text-align: right;\n",
       "    }\n",
       "</style>\n",
       "<table border=\"1\" class=\"dataframe\">\n",
       "  <thead>\n",
       "    <tr style=\"text-align: right;\">\n",
       "      <th></th>\n",
       "      <th>0</th>\n",
       "      <th>2</th>\n",
       "      <th>3</th>\n",
       "      <th>4</th>\n",
       "      <th>5</th>\n",
       "    </tr>\n",
       "  </thead>\n",
       "  <tbody>\n",
       "    <tr>\n",
       "      <th>a</th>\n",
       "      <td>1</td>\n",
       "      <td>4</td>\n",
       "      <td>7</td>\n",
       "      <td>10</td>\n",
       "      <td>13</td>\n",
       "    </tr>\n",
       "    <tr>\n",
       "      <th>b</th>\n",
       "      <td>2</td>\n",
       "      <td>5</td>\n",
       "      <td>8</td>\n",
       "      <td>11</td>\n",
       "      <td>14</td>\n",
       "    </tr>\n",
       "    <tr>\n",
       "      <th>c</th>\n",
       "      <td>3</td>\n",
       "      <td>6</td>\n",
       "      <td>9</td>\n",
       "      <td>12</td>\n",
       "      <td>15</td>\n",
       "    </tr>\n",
       "  </tbody>\n",
       "</table>\n",
       "</div>"
      ],
      "text/plain": [
       "   0  2  3   4   5\n",
       "a  1  4  7  10  13\n",
       "b  2  5  8  11  14\n",
       "c  3  6  9  12  15"
      ]
     },
     "execution_count": 9,
     "metadata": {},
     "output_type": "execute_result"
    }
   ],
   "source": [
    "#열 이름 바꾸기\n",
    "df.rename(columns={'1':'0'}, inplace = True)\n",
    "df"
   ]
  },
  {
   "cell_type": "code",
   "execution_count": 10,
   "id": "eaa69b20",
   "metadata": {
    "scrolled": true
   },
   "outputs": [
    {
     "data": {
      "text/html": [
       "<div>\n",
       "<style scoped>\n",
       "    .dataframe tbody tr th:only-of-type {\n",
       "        vertical-align: middle;\n",
       "    }\n",
       "\n",
       "    .dataframe tbody tr th {\n",
       "        vertical-align: top;\n",
       "    }\n",
       "\n",
       "    .dataframe thead th {\n",
       "        text-align: right;\n",
       "    }\n",
       "</style>\n",
       "<table border=\"1\" class=\"dataframe\">\n",
       "  <thead>\n",
       "    <tr style=\"text-align: right;\">\n",
       "      <th></th>\n",
       "      <th>0</th>\n",
       "      <th>2</th>\n",
       "      <th>4</th>\n",
       "      <th>5</th>\n",
       "    </tr>\n",
       "  </thead>\n",
       "  <tbody>\n",
       "    <tr>\n",
       "      <th>b</th>\n",
       "      <td>2</td>\n",
       "      <td>5</td>\n",
       "      <td>11</td>\n",
       "      <td>14</td>\n",
       "    </tr>\n",
       "    <tr>\n",
       "      <th>c</th>\n",
       "      <td>3</td>\n",
       "      <td>6</td>\n",
       "      <td>12</td>\n",
       "      <td>15</td>\n",
       "    </tr>\n",
       "  </tbody>\n",
       "</table>\n",
       "</div>"
      ],
      "text/plain": [
       "   0  2   4   5\n",
       "b  2  5  11  14\n",
       "c  3  6  12  15"
      ]
     },
     "execution_count": 10,
     "metadata": {},
     "output_type": "execute_result"
    }
   ],
   "source": [
    "#복사 -> DROP\n",
    "\n",
    "df2=df.copy()\n",
    "#행 drop\n",
    "df2.drop('a',inplace=True)\n",
    "#열 drop\n",
    "df2.drop('3',axis=1,inplace=True)\n",
    "df2"
   ]
  },
  {
   "cell_type": "markdown",
   "id": "ee10748f",
   "metadata": {},
   "source": [
    "# DataFrame indexing\n",
    "loc = 이름으로 indexing\n",
    "iloc = 숫자로 indexing"
   ]
  },
  {
   "cell_type": "code",
   "execution_count": 11,
   "id": "d1ac3c6f",
   "metadata": {},
   "outputs": [],
   "source": [
    "exam_data = {'수학':[90,80,70], '영어':[98,89,95],\n",
    "            '음악':[85,95,100], '체육':[100,90,90]}"
   ]
  },
  {
   "cell_type": "code",
   "execution_count": 12,
   "id": "31305a1e",
   "metadata": {},
   "outputs": [
    {
     "data": {
      "text/html": [
       "<div>\n",
       "<style scoped>\n",
       "    .dataframe tbody tr th:only-of-type {\n",
       "        vertical-align: middle;\n",
       "    }\n",
       "\n",
       "    .dataframe tbody tr th {\n",
       "        vertical-align: top;\n",
       "    }\n",
       "\n",
       "    .dataframe thead th {\n",
       "        text-align: right;\n",
       "    }\n",
       "</style>\n",
       "<table border=\"1\" class=\"dataframe\">\n",
       "  <thead>\n",
       "    <tr style=\"text-align: right;\">\n",
       "      <th></th>\n",
       "      <th>수학</th>\n",
       "      <th>영어</th>\n",
       "      <th>음악</th>\n",
       "      <th>체육</th>\n",
       "    </tr>\n",
       "  </thead>\n",
       "  <tbody>\n",
       "    <tr>\n",
       "      <th>a</th>\n",
       "      <td>90</td>\n",
       "      <td>98</td>\n",
       "      <td>85</td>\n",
       "      <td>100</td>\n",
       "    </tr>\n",
       "    <tr>\n",
       "      <th>b</th>\n",
       "      <td>80</td>\n",
       "      <td>89</td>\n",
       "      <td>95</td>\n",
       "      <td>90</td>\n",
       "    </tr>\n",
       "    <tr>\n",
       "      <th>c</th>\n",
       "      <td>70</td>\n",
       "      <td>95</td>\n",
       "      <td>100</td>\n",
       "      <td>90</td>\n",
       "    </tr>\n",
       "  </tbody>\n",
       "</table>\n",
       "</div>"
      ],
      "text/plain": [
       "   수학  영어   음악   체육\n",
       "a  90  98   85  100\n",
       "b  80  89   95   90\n",
       "c  70  95  100   90"
      ]
     },
     "execution_count": 12,
     "metadata": {},
     "output_type": "execute_result"
    }
   ],
   "source": [
    "df4 = pd.DataFrame(exam_data, index = ['a','b','c'])\n",
    "df4"
   ]
  },
  {
   "cell_type": "code",
   "execution_count": 13,
   "id": "5380ff26",
   "metadata": {},
   "outputs": [
    {
     "data": {
      "text/plain": [
       "수학     70\n",
       "영어     95\n",
       "음악    100\n",
       "체육     90\n",
       "Name: c, dtype: int64"
      ]
     },
     "execution_count": 13,
     "metadata": {},
     "output_type": "execute_result"
    }
   ],
   "source": [
    "#row기준으로 자르기 \n",
    "label1 = df4.loc['b'] #index b / row b 가져오기\n",
    "label2 = df4.iloc[2] #두번째 position (즉 c) 가져오기\n",
    "label1\n",
    "label2"
   ]
  },
  {
   "cell_type": "code",
   "execution_count": 14,
   "id": "46832942",
   "metadata": {},
   "outputs": [
    {
     "data": {
      "text/html": [
       "<div>\n",
       "<style scoped>\n",
       "    .dataframe tbody tr th:only-of-type {\n",
       "        vertical-align: middle;\n",
       "    }\n",
       "\n",
       "    .dataframe tbody tr th {\n",
       "        vertical-align: top;\n",
       "    }\n",
       "\n",
       "    .dataframe thead th {\n",
       "        text-align: right;\n",
       "    }\n",
       "</style>\n",
       "<table border=\"1\" class=\"dataframe\">\n",
       "  <thead>\n",
       "    <tr style=\"text-align: right;\">\n",
       "      <th></th>\n",
       "      <th>수학</th>\n",
       "      <th>영어</th>\n",
       "      <th>음악</th>\n",
       "      <th>체육</th>\n",
       "    </tr>\n",
       "  </thead>\n",
       "  <tbody>\n",
       "    <tr>\n",
       "      <th>b</th>\n",
       "      <td>80</td>\n",
       "      <td>89</td>\n",
       "      <td>95</td>\n",
       "      <td>90</td>\n",
       "    </tr>\n",
       "    <tr>\n",
       "      <th>c</th>\n",
       "      <td>70</td>\n",
       "      <td>95</td>\n",
       "      <td>100</td>\n",
       "      <td>90</td>\n",
       "    </tr>\n",
       "  </tbody>\n",
       "</table>\n",
       "</div>"
      ],
      "text/plain": [
       "   수학  영어   음악  체육\n",
       "b  80  89   95  90\n",
       "c  70  95  100  90"
      ]
     },
     "execution_count": 14,
     "metadata": {},
     "output_type": "execute_result"
    }
   ],
   "source": [
    "#row기준으로 자르기 (2개이상) #이러면 data frame으로 가져옴 \n",
    "label3 = df4.loc[['b','c']]\n",
    "label3"
   ]
  },
  {
   "cell_type": "code",
   "execution_count": 15,
   "id": "af8aa276",
   "metadata": {},
   "outputs": [
    {
     "data": {
      "text/html": [
       "<div>\n",
       "<style scoped>\n",
       "    .dataframe tbody tr th:only-of-type {\n",
       "        vertical-align: middle;\n",
       "    }\n",
       "\n",
       "    .dataframe tbody tr th {\n",
       "        vertical-align: top;\n",
       "    }\n",
       "\n",
       "    .dataframe thead th {\n",
       "        text-align: right;\n",
       "    }\n",
       "</style>\n",
       "<table border=\"1\" class=\"dataframe\">\n",
       "  <thead>\n",
       "    <tr style=\"text-align: right;\">\n",
       "      <th></th>\n",
       "      <th>수학</th>\n",
       "      <th>영어</th>\n",
       "    </tr>\n",
       "  </thead>\n",
       "  <tbody>\n",
       "    <tr>\n",
       "      <th>a</th>\n",
       "      <td>90</td>\n",
       "      <td>98</td>\n",
       "    </tr>\n",
       "    <tr>\n",
       "      <th>b</th>\n",
       "      <td>80</td>\n",
       "      <td>89</td>\n",
       "    </tr>\n",
       "    <tr>\n",
       "      <th>c</th>\n",
       "      <td>70</td>\n",
       "      <td>95</td>\n",
       "    </tr>\n",
       "  </tbody>\n",
       "</table>\n",
       "</div>"
      ],
      "text/plain": [
       "   수학  영어\n",
       "a  90  98\n",
       "b  80  89\n",
       "c  70  95"
      ]
     },
     "execution_count": 15,
     "metadata": {},
     "output_type": "execute_result"
    }
   ],
   "source": [
    "#열 기준으로 자르기 - dataframe으로 만들려면 \"[[]]\"\n",
    "df4[['수학']] \n",
    "#2개 이상으로 열 자르기\n",
    "df4[['수학','영어']]"
   ]
  },
  {
   "cell_type": "markdown",
   "id": "d7831b50",
   "metadata": {},
   "source": [
    "조건을 가지고 indexing"
   ]
  },
  {
   "cell_type": "code",
   "execution_count": 16,
   "id": "9cfc4051",
   "metadata": {},
   "outputs": [
    {
     "data": {
      "text/plain": [
       "a     True\n",
       "b     True\n",
       "c    False\n",
       "Name: 수학, dtype: bool"
      ]
     },
     "execution_count": 16,
     "metadata": {},
     "output_type": "execute_result"
    }
   ],
   "source": [
    "df4['수학'] > 70"
   ]
  },
  {
   "cell_type": "code",
   "execution_count": 17,
   "id": "6ae11183",
   "metadata": {},
   "outputs": [
    {
     "data": {
      "text/html": [
       "<div>\n",
       "<style scoped>\n",
       "    .dataframe tbody tr th:only-of-type {\n",
       "        vertical-align: middle;\n",
       "    }\n",
       "\n",
       "    .dataframe tbody tr th {\n",
       "        vertical-align: top;\n",
       "    }\n",
       "\n",
       "    .dataframe thead th {\n",
       "        text-align: right;\n",
       "    }\n",
       "</style>\n",
       "<table border=\"1\" class=\"dataframe\">\n",
       "  <thead>\n",
       "    <tr style=\"text-align: right;\">\n",
       "      <th></th>\n",
       "      <th>수학</th>\n",
       "      <th>영어</th>\n",
       "      <th>음악</th>\n",
       "      <th>체육</th>\n",
       "    </tr>\n",
       "  </thead>\n",
       "  <tbody>\n",
       "    <tr>\n",
       "      <th>a</th>\n",
       "      <td>90</td>\n",
       "      <td>98</td>\n",
       "      <td>85</td>\n",
       "      <td>100</td>\n",
       "    </tr>\n",
       "    <tr>\n",
       "      <th>b</th>\n",
       "      <td>80</td>\n",
       "      <td>89</td>\n",
       "      <td>95</td>\n",
       "      <td>90</td>\n",
       "    </tr>\n",
       "  </tbody>\n",
       "</table>\n",
       "</div>"
      ],
      "text/plain": [
       "   수학  영어  음악   체육\n",
       "a  90  98  85  100\n",
       "b  80  89  95   90"
      ]
     },
     "execution_count": 17,
     "metadata": {},
     "output_type": "execute_result"
    }
   ],
   "source": [
    "#df4 '수학'열 에서 70 넘은 row 모두 다 출력 \n",
    "df4.loc[df4['수학'] > 70,:]"
   ]
  },
  {
   "cell_type": "code",
   "execution_count": 18,
   "id": "00b4fae5",
   "metadata": {},
   "outputs": [
    {
     "data": {
      "text/html": [
       "<div>\n",
       "<style scoped>\n",
       "    .dataframe tbody tr th:only-of-type {\n",
       "        vertical-align: middle;\n",
       "    }\n",
       "\n",
       "    .dataframe tbody tr th {\n",
       "        vertical-align: top;\n",
       "    }\n",
       "\n",
       "    .dataframe thead th {\n",
       "        text-align: right;\n",
       "    }\n",
       "</style>\n",
       "<table border=\"1\" class=\"dataframe\">\n",
       "  <thead>\n",
       "    <tr style=\"text-align: right;\">\n",
       "      <th></th>\n",
       "      <th>영어</th>\n",
       "      <th>음악</th>\n",
       "    </tr>\n",
       "  </thead>\n",
       "  <tbody>\n",
       "    <tr>\n",
       "      <th>a</th>\n",
       "      <td>98</td>\n",
       "      <td>85</td>\n",
       "    </tr>\n",
       "    <tr>\n",
       "      <th>b</th>\n",
       "      <td>89</td>\n",
       "      <td>95</td>\n",
       "    </tr>\n",
       "  </tbody>\n",
       "</table>\n",
       "</div>"
      ],
      "text/plain": [
       "   영어  음악\n",
       "a  98  85\n",
       "b  89  95"
      ]
     },
     "execution_count": 18,
     "metadata": {},
     "output_type": "execute_result"
    }
   ],
   "source": [
    "#df4 '수학'열 에서 80 넘은 row 모두 출력 & 열 출력할 것 설정모두 다 출력 \n",
    "df4.loc[df4['수학'] > 70, ['영어','음악']]"
   ]
  },
  {
   "cell_type": "code",
   "execution_count": 19,
   "id": "4ed31db0",
   "metadata": {},
   "outputs": [
    {
     "data": {
      "text/html": [
       "<div>\n",
       "<style scoped>\n",
       "    .dataframe tbody tr th:only-of-type {\n",
       "        vertical-align: middle;\n",
       "    }\n",
       "\n",
       "    .dataframe tbody tr th {\n",
       "        vertical-align: top;\n",
       "    }\n",
       "\n",
       "    .dataframe thead th {\n",
       "        text-align: right;\n",
       "    }\n",
       "</style>\n",
       "<table border=\"1\" class=\"dataframe\">\n",
       "  <thead>\n",
       "    <tr style=\"text-align: right;\">\n",
       "      <th></th>\n",
       "      <th>수학</th>\n",
       "      <th>영어</th>\n",
       "      <th>음악</th>\n",
       "      <th>체육</th>\n",
       "    </tr>\n",
       "  </thead>\n",
       "  <tbody>\n",
       "    <tr>\n",
       "      <th>b</th>\n",
       "      <td>80</td>\n",
       "      <td>89</td>\n",
       "      <td>95</td>\n",
       "      <td>90</td>\n",
       "    </tr>\n",
       "  </tbody>\n",
       "</table>\n",
       "</div>"
      ],
      "text/plain": [
       "   수학  영어  음악  체육\n",
       "b  80  89  95  90"
      ]
     },
     "execution_count": 19,
     "metadata": {},
     "output_type": "execute_result"
    }
   ],
   "source": [
    "#조건 두개\n",
    "df4.loc[(df4['수학']>70)&(df4['수학']<90),:]"
   ]
  },
  {
   "cell_type": "markdown",
   "id": "08d2d43d",
   "metadata": {},
   "source": [
    "# Transpose, info, describe, shape"
   ]
  },
  {
   "cell_type": "code",
   "execution_count": 20,
   "id": "5bdff0e1",
   "metadata": {},
   "outputs": [
    {
     "data": {
      "text/html": [
       "<div>\n",
       "<style scoped>\n",
       "    .dataframe tbody tr th:only-of-type {\n",
       "        vertical-align: middle;\n",
       "    }\n",
       "\n",
       "    .dataframe tbody tr th {\n",
       "        vertical-align: top;\n",
       "    }\n",
       "\n",
       "    .dataframe thead th {\n",
       "        text-align: right;\n",
       "    }\n",
       "</style>\n",
       "<table border=\"1\" class=\"dataframe\">\n",
       "  <thead>\n",
       "    <tr style=\"text-align: right;\">\n",
       "      <th></th>\n",
       "      <th>a</th>\n",
       "      <th>b</th>\n",
       "      <th>c</th>\n",
       "    </tr>\n",
       "  </thead>\n",
       "  <tbody>\n",
       "    <tr>\n",
       "      <th>수학</th>\n",
       "      <td>90</td>\n",
       "      <td>80</td>\n",
       "      <td>70</td>\n",
       "    </tr>\n",
       "    <tr>\n",
       "      <th>영어</th>\n",
       "      <td>98</td>\n",
       "      <td>89</td>\n",
       "      <td>95</td>\n",
       "    </tr>\n",
       "    <tr>\n",
       "      <th>음악</th>\n",
       "      <td>85</td>\n",
       "      <td>95</td>\n",
       "      <td>100</td>\n",
       "    </tr>\n",
       "    <tr>\n",
       "      <th>체육</th>\n",
       "      <td>100</td>\n",
       "      <td>90</td>\n",
       "      <td>90</td>\n",
       "    </tr>\n",
       "  </tbody>\n",
       "</table>\n",
       "</div>"
      ],
      "text/plain": [
       "      a   b    c\n",
       "수학   90  80   70\n",
       "영어   98  89   95\n",
       "음악   85  95  100\n",
       "체육  100  90   90"
      ]
     },
     "execution_count": 20,
     "metadata": {},
     "output_type": "execute_result"
    }
   ],
   "source": [
    "#transpose\n",
    "df4.transpose()"
   ]
  },
  {
   "cell_type": "code",
   "execution_count": 21,
   "id": "6de30625",
   "metadata": {},
   "outputs": [
    {
     "name": "stdout",
     "output_type": "stream",
     "text": [
      "<class 'pandas.core.frame.DataFrame'>\n",
      "Index: 3 entries, a to c\n",
      "Data columns (total 4 columns):\n",
      " #   Column  Non-Null Count  Dtype\n",
      "---  ------  --------------  -----\n",
      " 0   수학      3 non-null      int64\n",
      " 1   영어      3 non-null      int64\n",
      " 2   음악      3 non-null      int64\n",
      " 3   체육      3 non-null      int64\n",
      "dtypes: int64(4)\n",
      "memory usage: 228.0+ bytes\n"
     ]
    }
   ],
   "source": [
    "df4.info()"
   ]
  },
  {
   "cell_type": "code",
   "execution_count": 22,
   "id": "fa08986c",
   "metadata": {},
   "outputs": [
    {
     "data": {
      "text/html": [
       "<div>\n",
       "<style scoped>\n",
       "    .dataframe tbody tr th:only-of-type {\n",
       "        vertical-align: middle;\n",
       "    }\n",
       "\n",
       "    .dataframe tbody tr th {\n",
       "        vertical-align: top;\n",
       "    }\n",
       "\n",
       "    .dataframe thead th {\n",
       "        text-align: right;\n",
       "    }\n",
       "</style>\n",
       "<table border=\"1\" class=\"dataframe\">\n",
       "  <thead>\n",
       "    <tr style=\"text-align: right;\">\n",
       "      <th></th>\n",
       "      <th>수학</th>\n",
       "      <th>영어</th>\n",
       "      <th>음악</th>\n",
       "      <th>체육</th>\n",
       "    </tr>\n",
       "  </thead>\n",
       "  <tbody>\n",
       "    <tr>\n",
       "      <th>count</th>\n",
       "      <td>3.0</td>\n",
       "      <td>3.000000</td>\n",
       "      <td>3.000000</td>\n",
       "      <td>3.000000</td>\n",
       "    </tr>\n",
       "    <tr>\n",
       "      <th>mean</th>\n",
       "      <td>80.0</td>\n",
       "      <td>94.000000</td>\n",
       "      <td>93.333333</td>\n",
       "      <td>93.333333</td>\n",
       "    </tr>\n",
       "    <tr>\n",
       "      <th>std</th>\n",
       "      <td>10.0</td>\n",
       "      <td>4.582576</td>\n",
       "      <td>7.637626</td>\n",
       "      <td>5.773503</td>\n",
       "    </tr>\n",
       "    <tr>\n",
       "      <th>min</th>\n",
       "      <td>70.0</td>\n",
       "      <td>89.000000</td>\n",
       "      <td>85.000000</td>\n",
       "      <td>90.000000</td>\n",
       "    </tr>\n",
       "    <tr>\n",
       "      <th>25%</th>\n",
       "      <td>75.0</td>\n",
       "      <td>92.000000</td>\n",
       "      <td>90.000000</td>\n",
       "      <td>90.000000</td>\n",
       "    </tr>\n",
       "    <tr>\n",
       "      <th>50%</th>\n",
       "      <td>80.0</td>\n",
       "      <td>95.000000</td>\n",
       "      <td>95.000000</td>\n",
       "      <td>90.000000</td>\n",
       "    </tr>\n",
       "    <tr>\n",
       "      <th>75%</th>\n",
       "      <td>85.0</td>\n",
       "      <td>96.500000</td>\n",
       "      <td>97.500000</td>\n",
       "      <td>95.000000</td>\n",
       "    </tr>\n",
       "    <tr>\n",
       "      <th>max</th>\n",
       "      <td>90.0</td>\n",
       "      <td>98.000000</td>\n",
       "      <td>100.000000</td>\n",
       "      <td>100.000000</td>\n",
       "    </tr>\n",
       "  </tbody>\n",
       "</table>\n",
       "</div>"
      ],
      "text/plain": [
       "         수학         영어          음악          체육\n",
       "count   3.0   3.000000    3.000000    3.000000\n",
       "mean   80.0  94.000000   93.333333   93.333333\n",
       "std    10.0   4.582576    7.637626    5.773503\n",
       "min    70.0  89.000000   85.000000   90.000000\n",
       "25%    75.0  92.000000   90.000000   90.000000\n",
       "50%    80.0  95.000000   95.000000   90.000000\n",
       "75%    85.0  96.500000   97.500000   95.000000\n",
       "max    90.0  98.000000  100.000000  100.000000"
      ]
     },
     "execution_count": 22,
     "metadata": {},
     "output_type": "execute_result"
    }
   ],
   "source": [
    "df4.describe()"
   ]
  },
  {
   "cell_type": "code",
   "execution_count": 23,
   "id": "cc614fa9",
   "metadata": {},
   "outputs": [
    {
     "data": {
      "text/plain": [
       "(3, 4)"
      ]
     },
     "execution_count": 23,
     "metadata": {},
     "output_type": "execute_result"
    }
   ],
   "source": [
    "df4.shape"
   ]
  },
  {
   "cell_type": "markdown",
   "id": "878625af",
   "metadata": {},
   "source": [
    "# Missing Value - DROP NaN"
   ]
  },
  {
   "cell_type": "code",
   "execution_count": 24,
   "id": "5a920c67",
   "metadata": {},
   "outputs": [
    {
     "data": {
      "text/html": [
       "<div>\n",
       "<style scoped>\n",
       "    .dataframe tbody tr th:only-of-type {\n",
       "        vertical-align: middle;\n",
       "    }\n",
       "\n",
       "    .dataframe tbody tr th {\n",
       "        vertical-align: top;\n",
       "    }\n",
       "\n",
       "    .dataframe thead th {\n",
       "        text-align: right;\n",
       "    }\n",
       "</style>\n",
       "<table border=\"1\" class=\"dataframe\">\n",
       "  <thead>\n",
       "    <tr style=\"text-align: right;\">\n",
       "      <th></th>\n",
       "      <th>0</th>\n",
       "      <th>1</th>\n",
       "      <th>2</th>\n",
       "      <th>3</th>\n",
       "    </tr>\n",
       "  </thead>\n",
       "  <tbody>\n",
       "    <tr>\n",
       "      <th>0</th>\n",
       "      <td>-0.959764</td>\n",
       "      <td>0.396396</td>\n",
       "      <td>0.666594</td>\n",
       "      <td>0.026184</td>\n",
       "    </tr>\n",
       "    <tr>\n",
       "      <th>1</th>\n",
       "      <td>1.541180</td>\n",
       "      <td>1.231345</td>\n",
       "      <td>0.578535</td>\n",
       "      <td>-0.620501</td>\n",
       "    </tr>\n",
       "    <tr>\n",
       "      <th>2</th>\n",
       "      <td>-1.123822</td>\n",
       "      <td>-1.198526</td>\n",
       "      <td>-0.238716</td>\n",
       "      <td>1.135752</td>\n",
       "    </tr>\n",
       "    <tr>\n",
       "      <th>3</th>\n",
       "      <td>-1.639327</td>\n",
       "      <td>-1.818252</td>\n",
       "      <td>1.609605</td>\n",
       "      <td>-0.762939</td>\n",
       "    </tr>\n",
       "    <tr>\n",
       "      <th>4</th>\n",
       "      <td>0.468407</td>\n",
       "      <td>0.127744</td>\n",
       "      <td>-1.192614</td>\n",
       "      <td>-1.336123</td>\n",
       "    </tr>\n",
       "    <tr>\n",
       "      <th>5</th>\n",
       "      <td>-1.527674</td>\n",
       "      <td>-1.312198</td>\n",
       "      <td>-0.325106</td>\n",
       "      <td>-0.306450</td>\n",
       "    </tr>\n",
       "  </tbody>\n",
       "</table>\n",
       "</div>"
      ],
      "text/plain": [
       "          0         1         2         3\n",
       "0 -0.959764  0.396396  0.666594  0.026184\n",
       "1  1.541180  1.231345  0.578535 -0.620501\n",
       "2 -1.123822 -1.198526 -0.238716  1.135752\n",
       "3 -1.639327 -1.818252  1.609605 -0.762939\n",
       "4  0.468407  0.127744 -1.192614 -1.336123\n",
       "5 -1.527674 -1.312198 -0.325106 -0.306450"
      ]
     },
     "execution_count": 24,
     "metadata": {},
     "output_type": "execute_result"
    }
   ],
   "source": [
    "# Random 으로 만들기\n",
    "df = pd.DataFrame(np.random.randn(6,4))\n",
    "df"
   ]
  },
  {
   "cell_type": "code",
   "execution_count": 25,
   "id": "d9341a43",
   "metadata": {},
   "outputs": [
    {
     "data": {
      "text/html": [
       "<div>\n",
       "<style scoped>\n",
       "    .dataframe tbody tr th:only-of-type {\n",
       "        vertical-align: middle;\n",
       "    }\n",
       "\n",
       "    .dataframe tbody tr th {\n",
       "        vertical-align: top;\n",
       "    }\n",
       "\n",
       "    .dataframe thead th {\n",
       "        text-align: right;\n",
       "    }\n",
       "</style>\n",
       "<table border=\"1\" class=\"dataframe\">\n",
       "  <thead>\n",
       "    <tr style=\"text-align: right;\">\n",
       "      <th></th>\n",
       "      <th>a</th>\n",
       "      <th>b</th>\n",
       "      <th>c</th>\n",
       "      <th>d</th>\n",
       "    </tr>\n",
       "  </thead>\n",
       "  <tbody>\n",
       "    <tr>\n",
       "      <th>1</th>\n",
       "      <td>-0.959764</td>\n",
       "      <td>0.396396</td>\n",
       "      <td>0.666594</td>\n",
       "      <td>0.026184</td>\n",
       "    </tr>\n",
       "    <tr>\n",
       "      <th>2</th>\n",
       "      <td>1.541180</td>\n",
       "      <td>1.231345</td>\n",
       "      <td>0.578535</td>\n",
       "      <td>-0.620501</td>\n",
       "    </tr>\n",
       "    <tr>\n",
       "      <th>3</th>\n",
       "      <td>-1.123822</td>\n",
       "      <td>-1.198526</td>\n",
       "      <td>-0.238716</td>\n",
       "      <td>1.135752</td>\n",
       "    </tr>\n",
       "    <tr>\n",
       "      <th>4</th>\n",
       "      <td>-1.639327</td>\n",
       "      <td>-1.818252</td>\n",
       "      <td>1.609605</td>\n",
       "      <td>-0.762939</td>\n",
       "    </tr>\n",
       "    <tr>\n",
       "      <th>5</th>\n",
       "      <td>0.468407</td>\n",
       "      <td>0.127744</td>\n",
       "      <td>-1.192614</td>\n",
       "      <td>-1.336123</td>\n",
       "    </tr>\n",
       "    <tr>\n",
       "      <th>6</th>\n",
       "      <td>-1.527674</td>\n",
       "      <td>-1.312198</td>\n",
       "      <td>-0.325106</td>\n",
       "      <td>-0.306450</td>\n",
       "    </tr>\n",
       "  </tbody>\n",
       "</table>\n",
       "</div>"
      ],
      "text/plain": [
       "          a         b         c         d\n",
       "1 -0.959764  0.396396  0.666594  0.026184\n",
       "2  1.541180  1.231345  0.578535 -0.620501\n",
       "3 -1.123822 -1.198526 -0.238716  1.135752\n",
       "4 -1.639327 -1.818252  1.609605 -0.762939\n",
       "5  0.468407  0.127744 -1.192614 -1.336123\n",
       "6 -1.527674 -1.312198 -0.325106 -0.306450"
      ]
     },
     "execution_count": 25,
     "metadata": {},
     "output_type": "execute_result"
    }
   ],
   "source": [
    "df.columns = ['a','b','c','d']\n",
    "df.index = ['1','2','3','4','5','6']\n",
    "df"
   ]
  },
  {
   "cell_type": "code",
   "execution_count": 26,
   "id": "d4134403",
   "metadata": {},
   "outputs": [
    {
     "data": {
      "text/html": [
       "<div>\n",
       "<style scoped>\n",
       "    .dataframe tbody tr th:only-of-type {\n",
       "        vertical-align: middle;\n",
       "    }\n",
       "\n",
       "    .dataframe tbody tr th {\n",
       "        vertical-align: top;\n",
       "    }\n",
       "\n",
       "    .dataframe thead th {\n",
       "        text-align: right;\n",
       "    }\n",
       "</style>\n",
       "<table border=\"1\" class=\"dataframe\">\n",
       "  <thead>\n",
       "    <tr style=\"text-align: right;\">\n",
       "      <th></th>\n",
       "      <th>a</th>\n",
       "      <th>b</th>\n",
       "      <th>c</th>\n",
       "      <th>d</th>\n",
       "      <th>e</th>\n",
       "      <th>f</th>\n",
       "    </tr>\n",
       "  </thead>\n",
       "  <tbody>\n",
       "    <tr>\n",
       "      <th>1</th>\n",
       "      <td>-0.959764</td>\n",
       "      <td>0.396396</td>\n",
       "      <td>0.666594</td>\n",
       "      <td>0.026184</td>\n",
       "      <td>NaN</td>\n",
       "      <td>0.555123</td>\n",
       "    </tr>\n",
       "    <tr>\n",
       "      <th>2</th>\n",
       "      <td>1.541180</td>\n",
       "      <td>1.231345</td>\n",
       "      <td>0.578535</td>\n",
       "      <td>-0.620501</td>\n",
       "      <td>NaN</td>\n",
       "      <td>0.791073</td>\n",
       "    </tr>\n",
       "    <tr>\n",
       "      <th>3</th>\n",
       "      <td>-1.123822</td>\n",
       "      <td>-1.198526</td>\n",
       "      <td>-0.238716</td>\n",
       "      <td>1.135752</td>\n",
       "      <td>NaN</td>\n",
       "      <td>0.368378</td>\n",
       "    </tr>\n",
       "    <tr>\n",
       "      <th>4</th>\n",
       "      <td>-1.639327</td>\n",
       "      <td>-1.818252</td>\n",
       "      <td>1.609605</td>\n",
       "      <td>-0.762939</td>\n",
       "      <td>1.0</td>\n",
       "      <td>-0.634636</td>\n",
       "    </tr>\n",
       "    <tr>\n",
       "      <th>5</th>\n",
       "      <td>0.468407</td>\n",
       "      <td>0.127744</td>\n",
       "      <td>-1.192614</td>\n",
       "      <td>-1.336123</td>\n",
       "      <td>1.0</td>\n",
       "      <td>0.380448</td>\n",
       "    </tr>\n",
       "    <tr>\n",
       "      <th>6</th>\n",
       "      <td>-1.527674</td>\n",
       "      <td>-1.312198</td>\n",
       "      <td>-0.325106</td>\n",
       "      <td>-0.306450</td>\n",
       "      <td>1.0</td>\n",
       "      <td>0.638616</td>\n",
       "    </tr>\n",
       "  </tbody>\n",
       "</table>\n",
       "</div>"
      ],
      "text/plain": [
       "          a         b         c         d    e         f\n",
       "1 -0.959764  0.396396  0.666594  0.026184  NaN  0.555123\n",
       "2  1.541180  1.231345  0.578535 -0.620501  NaN  0.791073\n",
       "3 -1.123822 -1.198526 -0.238716  1.135752  NaN  0.368378\n",
       "4 -1.639327 -1.818252  1.609605 -0.762939  1.0 -0.634636\n",
       "5  0.468407  0.127744 -1.192614 -1.336123  1.0  0.380448\n",
       "6 -1.527674 -1.312198 -0.325106 -0.306450  1.0  0.638616"
      ]
     },
     "execution_count": 26,
     "metadata": {},
     "output_type": "execute_result"
    }
   ],
   "source": [
    "#임의로 NaN을 넣어버리겠음, e column에다가 넣음\n",
    "df['e'] = [np.nan, np.nan, np.nan, 1, 1, 1]\n",
    "\n",
    "#임의로 random사용해서 f열에 넣어버리겠음\n",
    "df['f'] = np.random.randn(6,1)\n",
    "df"
   ]
  },
  {
   "cell_type": "code",
   "execution_count": 27,
   "id": "84ac8d59",
   "metadata": {},
   "outputs": [
    {
     "data": {
      "text/html": [
       "<div>\n",
       "<style scoped>\n",
       "    .dataframe tbody tr th:only-of-type {\n",
       "        vertical-align: middle;\n",
       "    }\n",
       "\n",
       "    .dataframe tbody tr th {\n",
       "        vertical-align: top;\n",
       "    }\n",
       "\n",
       "    .dataframe thead th {\n",
       "        text-align: right;\n",
       "    }\n",
       "</style>\n",
       "<table border=\"1\" class=\"dataframe\">\n",
       "  <thead>\n",
       "    <tr style=\"text-align: right;\">\n",
       "      <th></th>\n",
       "      <th>a</th>\n",
       "      <th>b</th>\n",
       "      <th>c</th>\n",
       "      <th>d</th>\n",
       "      <th>e</th>\n",
       "      <th>f</th>\n",
       "    </tr>\n",
       "  </thead>\n",
       "  <tbody>\n",
       "    <tr>\n",
       "      <th>4</th>\n",
       "      <td>-1.639327</td>\n",
       "      <td>-1.818252</td>\n",
       "      <td>1.609605</td>\n",
       "      <td>-0.762939</td>\n",
       "      <td>1.0</td>\n",
       "      <td>-0.634636</td>\n",
       "    </tr>\n",
       "    <tr>\n",
       "      <th>5</th>\n",
       "      <td>0.468407</td>\n",
       "      <td>0.127744</td>\n",
       "      <td>-1.192614</td>\n",
       "      <td>-1.336123</td>\n",
       "      <td>1.0</td>\n",
       "      <td>0.380448</td>\n",
       "    </tr>\n",
       "    <tr>\n",
       "      <th>6</th>\n",
       "      <td>-1.527674</td>\n",
       "      <td>-1.312198</td>\n",
       "      <td>-0.325106</td>\n",
       "      <td>-0.306450</td>\n",
       "      <td>1.0</td>\n",
       "      <td>0.638616</td>\n",
       "    </tr>\n",
       "  </tbody>\n",
       "</table>\n",
       "</div>"
      ],
      "text/plain": [
       "          a         b         c         d    e         f\n",
       "4 -1.639327 -1.818252  1.609605 -0.762939  1.0 -0.634636\n",
       "5  0.468407  0.127744 -1.192614 -1.336123  1.0  0.380448\n",
       "6 -1.527674 -1.312198 -0.325106 -0.306450  1.0  0.638616"
      ]
     },
     "execution_count": 27,
     "metadata": {},
     "output_type": "execute_result"
    }
   ],
   "source": [
    "#NaN 없애기\n",
    "df.dropna(how = 'any')"
   ]
  },
  {
   "cell_type": "code",
   "execution_count": 28,
   "id": "1788221e",
   "metadata": {},
   "outputs": [
    {
     "data": {
      "text/html": [
       "<div>\n",
       "<style scoped>\n",
       "    .dataframe tbody tr th:only-of-type {\n",
       "        vertical-align: middle;\n",
       "    }\n",
       "\n",
       "    .dataframe tbody tr th {\n",
       "        vertical-align: top;\n",
       "    }\n",
       "\n",
       "    .dataframe thead th {\n",
       "        text-align: right;\n",
       "    }\n",
       "</style>\n",
       "<table border=\"1\" class=\"dataframe\">\n",
       "  <thead>\n",
       "    <tr style=\"text-align: right;\">\n",
       "      <th></th>\n",
       "      <th>a</th>\n",
       "      <th>b</th>\n",
       "      <th>c</th>\n",
       "      <th>d</th>\n",
       "      <th>e</th>\n",
       "      <th>f</th>\n",
       "    </tr>\n",
       "  </thead>\n",
       "  <tbody>\n",
       "    <tr>\n",
       "      <th>1</th>\n",
       "      <td>-0.959764</td>\n",
       "      <td>0.396396</td>\n",
       "      <td>0.666594</td>\n",
       "      <td>0.026184</td>\n",
       "      <td>NaN</td>\n",
       "      <td>0.555123</td>\n",
       "    </tr>\n",
       "    <tr>\n",
       "      <th>2</th>\n",
       "      <td>1.541180</td>\n",
       "      <td>1.231345</td>\n",
       "      <td>0.578535</td>\n",
       "      <td>-0.620501</td>\n",
       "      <td>NaN</td>\n",
       "      <td>0.791073</td>\n",
       "    </tr>\n",
       "    <tr>\n",
       "      <th>3</th>\n",
       "      <td>-1.123822</td>\n",
       "      <td>-1.198526</td>\n",
       "      <td>-0.238716</td>\n",
       "      <td>1.135752</td>\n",
       "      <td>NaN</td>\n",
       "      <td>0.368378</td>\n",
       "    </tr>\n",
       "    <tr>\n",
       "      <th>4</th>\n",
       "      <td>-1.639327</td>\n",
       "      <td>-1.818252</td>\n",
       "      <td>1.609605</td>\n",
       "      <td>-0.762939</td>\n",
       "      <td>1.0</td>\n",
       "      <td>-0.634636</td>\n",
       "    </tr>\n",
       "    <tr>\n",
       "      <th>5</th>\n",
       "      <td>0.468407</td>\n",
       "      <td>0.127744</td>\n",
       "      <td>-1.192614</td>\n",
       "      <td>-1.336123</td>\n",
       "      <td>1.0</td>\n",
       "      <td>0.380448</td>\n",
       "    </tr>\n",
       "    <tr>\n",
       "      <th>6</th>\n",
       "      <td>-1.527674</td>\n",
       "      <td>-1.312198</td>\n",
       "      <td>-0.325106</td>\n",
       "      <td>-0.306450</td>\n",
       "      <td>1.0</td>\n",
       "      <td>0.638616</td>\n",
       "    </tr>\n",
       "  </tbody>\n",
       "</table>\n",
       "</div>"
      ],
      "text/plain": [
       "          a         b         c         d    e         f\n",
       "1 -0.959764  0.396396  0.666594  0.026184  NaN  0.555123\n",
       "2  1.541180  1.231345  0.578535 -0.620501  NaN  0.791073\n",
       "3 -1.123822 -1.198526 -0.238716  1.135752  NaN  0.368378\n",
       "4 -1.639327 -1.818252  1.609605 -0.762939  1.0 -0.634636\n",
       "5  0.468407  0.127744 -1.192614 -1.336123  1.0  0.380448\n",
       "6 -1.527674 -1.312198 -0.325106 -0.306450  1.0  0.638616"
      ]
     },
     "execution_count": 28,
     "metadata": {},
     "output_type": "execute_result"
    }
   ],
   "source": [
    "#열 모든값이 null인경우에 drop\n",
    "df.dropna(how = 'all')"
   ]
  },
  {
   "cell_type": "code",
   "execution_count": 29,
   "id": "86db40d1",
   "metadata": {},
   "outputs": [
    {
     "data": {
      "text/html": [
       "<div>\n",
       "<style scoped>\n",
       "    .dataframe tbody tr th:only-of-type {\n",
       "        vertical-align: middle;\n",
       "    }\n",
       "\n",
       "    .dataframe tbody tr th {\n",
       "        vertical-align: top;\n",
       "    }\n",
       "\n",
       "    .dataframe thead th {\n",
       "        text-align: right;\n",
       "    }\n",
       "</style>\n",
       "<table border=\"1\" class=\"dataframe\">\n",
       "  <thead>\n",
       "    <tr style=\"text-align: right;\">\n",
       "      <th></th>\n",
       "      <th>a</th>\n",
       "      <th>b</th>\n",
       "      <th>c</th>\n",
       "      <th>d</th>\n",
       "      <th>e</th>\n",
       "      <th>f</th>\n",
       "    </tr>\n",
       "  </thead>\n",
       "  <tbody>\n",
       "    <tr>\n",
       "      <th>4</th>\n",
       "      <td>-1.639327</td>\n",
       "      <td>-1.818252</td>\n",
       "      <td>1.609605</td>\n",
       "      <td>-0.762939</td>\n",
       "      <td>1.0</td>\n",
       "      <td>-0.634636</td>\n",
       "    </tr>\n",
       "    <tr>\n",
       "      <th>5</th>\n",
       "      <td>0.468407</td>\n",
       "      <td>0.127744</td>\n",
       "      <td>-1.192614</td>\n",
       "      <td>-1.336123</td>\n",
       "      <td>1.0</td>\n",
       "      <td>0.380448</td>\n",
       "    </tr>\n",
       "    <tr>\n",
       "      <th>6</th>\n",
       "      <td>-1.527674</td>\n",
       "      <td>-1.312198</td>\n",
       "      <td>-0.325106</td>\n",
       "      <td>-0.306450</td>\n",
       "      <td>1.0</td>\n",
       "      <td>0.638616</td>\n",
       "    </tr>\n",
       "  </tbody>\n",
       "</table>\n",
       "</div>"
      ],
      "text/plain": [
       "          a         b         c         d    e         f\n",
       "4 -1.639327 -1.818252  1.609605 -0.762939  1.0 -0.634636\n",
       "5  0.468407  0.127744 -1.192614 -1.336123  1.0  0.380448\n",
       "6 -1.527674 -1.312198 -0.325106 -0.306450  1.0  0.638616"
      ]
     },
     "execution_count": 29,
     "metadata": {},
     "output_type": "execute_result"
    }
   ],
   "source": [
    "df.dropna(subset = ['e'], axis = 0)"
   ]
  },
  {
   "cell_type": "markdown",
   "id": "296c65fa",
   "metadata": {},
   "source": [
    "# Fill & Replace "
   ]
  },
  {
   "cell_type": "code",
   "execution_count": 30,
   "id": "bc568fe6",
   "metadata": {
    "scrolled": true
   },
   "outputs": [
    {
     "data": {
      "text/html": [
       "<div>\n",
       "<style scoped>\n",
       "    .dataframe tbody tr th:only-of-type {\n",
       "        vertical-align: middle;\n",
       "    }\n",
       "\n",
       "    .dataframe tbody tr th {\n",
       "        vertical-align: top;\n",
       "    }\n",
       "\n",
       "    .dataframe thead th {\n",
       "        text-align: right;\n",
       "    }\n",
       "</style>\n",
       "<table border=\"1\" class=\"dataframe\">\n",
       "  <thead>\n",
       "    <tr style=\"text-align: right;\">\n",
       "      <th></th>\n",
       "      <th>a</th>\n",
       "      <th>b</th>\n",
       "      <th>c</th>\n",
       "      <th>d</th>\n",
       "      <th>e</th>\n",
       "      <th>f</th>\n",
       "    </tr>\n",
       "  </thead>\n",
       "  <tbody>\n",
       "    <tr>\n",
       "      <th>1</th>\n",
       "      <td>-0.959764</td>\n",
       "      <td>0.396396</td>\n",
       "      <td>0.666594</td>\n",
       "      <td>0.026184</td>\n",
       "      <td>0.5</td>\n",
       "      <td>0.555123</td>\n",
       "    </tr>\n",
       "    <tr>\n",
       "      <th>2</th>\n",
       "      <td>1.541180</td>\n",
       "      <td>1.231345</td>\n",
       "      <td>0.578535</td>\n",
       "      <td>-0.620501</td>\n",
       "      <td>0.5</td>\n",
       "      <td>0.791073</td>\n",
       "    </tr>\n",
       "    <tr>\n",
       "      <th>3</th>\n",
       "      <td>-1.123822</td>\n",
       "      <td>-1.198526</td>\n",
       "      <td>-0.238716</td>\n",
       "      <td>1.135752</td>\n",
       "      <td>0.5</td>\n",
       "      <td>0.368378</td>\n",
       "    </tr>\n",
       "    <tr>\n",
       "      <th>4</th>\n",
       "      <td>-1.639327</td>\n",
       "      <td>-1.818252</td>\n",
       "      <td>1.609605</td>\n",
       "      <td>-0.762939</td>\n",
       "      <td>1.0</td>\n",
       "      <td>-0.634636</td>\n",
       "    </tr>\n",
       "    <tr>\n",
       "      <th>5</th>\n",
       "      <td>0.468407</td>\n",
       "      <td>0.127744</td>\n",
       "      <td>-1.192614</td>\n",
       "      <td>-1.336123</td>\n",
       "      <td>1.0</td>\n",
       "      <td>0.380448</td>\n",
       "    </tr>\n",
       "    <tr>\n",
       "      <th>6</th>\n",
       "      <td>-1.527674</td>\n",
       "      <td>-1.312198</td>\n",
       "      <td>-0.325106</td>\n",
       "      <td>-0.306450</td>\n",
       "      <td>1.0</td>\n",
       "      <td>0.638616</td>\n",
       "    </tr>\n",
       "  </tbody>\n",
       "</table>\n",
       "</div>"
      ],
      "text/plain": [
       "          a         b         c         d    e         f\n",
       "1 -0.959764  0.396396  0.666594  0.026184  0.5  0.555123\n",
       "2  1.541180  1.231345  0.578535 -0.620501  0.5  0.791073\n",
       "3 -1.123822 -1.198526 -0.238716  1.135752  0.5  0.368378\n",
       "4 -1.639327 -1.818252  1.609605 -0.762939  1.0 -0.634636\n",
       "5  0.468407  0.127744 -1.192614 -1.336123  1.0  0.380448\n",
       "6 -1.527674 -1.312198 -0.325106 -0.306450  1.0  0.638616"
      ]
     },
     "execution_count": 30,
     "metadata": {},
     "output_type": "execute_result"
    }
   ],
   "source": [
    "#null에 fill\n",
    "df.fillna(value=0.5)"
   ]
  },
  {
   "cell_type": "code",
   "execution_count": 31,
   "id": "049ae680",
   "metadata": {},
   "outputs": [
    {
     "name": "stdout",
     "output_type": "stream",
     "text": [
      "a    0\n",
      "b    0\n",
      "c    0\n",
      "d    0\n",
      "e    3\n",
      "f    0\n",
      "dtype: int64\n"
     ]
    }
   ],
   "source": [
    "df.isnull()\n",
    "print(df.isnull().sum())"
   ]
  },
  {
   "cell_type": "code",
   "execution_count": 32,
   "id": "4717d604",
   "metadata": {},
   "outputs": [
    {
     "data": {
      "text/html": [
       "<div>\n",
       "<style scoped>\n",
       "    .dataframe tbody tr th:only-of-type {\n",
       "        vertical-align: middle;\n",
       "    }\n",
       "\n",
       "    .dataframe tbody tr th {\n",
       "        vertical-align: top;\n",
       "    }\n",
       "\n",
       "    .dataframe thead th {\n",
       "        text-align: right;\n",
       "    }\n",
       "</style>\n",
       "<table border=\"1\" class=\"dataframe\">\n",
       "  <thead>\n",
       "    <tr style=\"text-align: right;\">\n",
       "      <th></th>\n",
       "      <th>a</th>\n",
       "      <th>b</th>\n",
       "      <th>c</th>\n",
       "      <th>d</th>\n",
       "      <th>e</th>\n",
       "      <th>f</th>\n",
       "    </tr>\n",
       "  </thead>\n",
       "  <tbody>\n",
       "    <tr>\n",
       "      <th>1</th>\n",
       "      <td>-0.959764</td>\n",
       "      <td>0.396396</td>\n",
       "      <td>0.666594</td>\n",
       "      <td>0.026184</td>\n",
       "      <td>24.0</td>\n",
       "      <td>0.555123</td>\n",
       "    </tr>\n",
       "    <tr>\n",
       "      <th>2</th>\n",
       "      <td>1.541180</td>\n",
       "      <td>1.231345</td>\n",
       "      <td>0.578535</td>\n",
       "      <td>-0.620501</td>\n",
       "      <td>24.0</td>\n",
       "      <td>0.791073</td>\n",
       "    </tr>\n",
       "    <tr>\n",
       "      <th>3</th>\n",
       "      <td>-1.123822</td>\n",
       "      <td>-1.198526</td>\n",
       "      <td>-0.238716</td>\n",
       "      <td>1.135752</td>\n",
       "      <td>24.0</td>\n",
       "      <td>0.368378</td>\n",
       "    </tr>\n",
       "    <tr>\n",
       "      <th>4</th>\n",
       "      <td>-1.639327</td>\n",
       "      <td>-1.818252</td>\n",
       "      <td>1.609605</td>\n",
       "      <td>-0.762939</td>\n",
       "      <td>1.0</td>\n",
       "      <td>-0.634636</td>\n",
       "    </tr>\n",
       "    <tr>\n",
       "      <th>5</th>\n",
       "      <td>0.468407</td>\n",
       "      <td>0.127744</td>\n",
       "      <td>-1.192614</td>\n",
       "      <td>-1.336123</td>\n",
       "      <td>1.0</td>\n",
       "      <td>0.380448</td>\n",
       "    </tr>\n",
       "    <tr>\n",
       "      <th>6</th>\n",
       "      <td>-1.527674</td>\n",
       "      <td>-1.312198</td>\n",
       "      <td>-0.325106</td>\n",
       "      <td>-0.306450</td>\n",
       "      <td>1.0</td>\n",
       "      <td>0.638616</td>\n",
       "    </tr>\n",
       "  </tbody>\n",
       "</table>\n",
       "</div>"
      ],
      "text/plain": [
       "          a         b         c         d     e         f\n",
       "1 -0.959764  0.396396  0.666594  0.026184  24.0  0.555123\n",
       "2  1.541180  1.231345  0.578535 -0.620501  24.0  0.791073\n",
       "3 -1.123822 -1.198526 -0.238716  1.135752  24.0  0.368378\n",
       "4 -1.639327 -1.818252  1.609605 -0.762939   1.0 -0.634636\n",
       "5  0.468407  0.127744 -1.192614 -1.336123   1.0  0.380448\n",
       "6 -1.527674 -1.312198 -0.325106 -0.306450   1.0  0.638616"
      ]
     },
     "execution_count": 32,
     "metadata": {},
     "output_type": "execute_result"
    }
   ],
   "source": [
    "#Replace null with 24\n",
    "df.replace(np.nan, 24)"
   ]
  },
  {
   "cell_type": "markdown",
   "id": "222c18e4",
   "metadata": {},
   "source": [
    "# Correlation구하기"
   ]
  },
  {
   "cell_type": "code",
   "execution_count": 33,
   "id": "b787ce4f",
   "metadata": {},
   "outputs": [
    {
     "data": {
      "text/plain": [
       "-0.25659291189061134"
      ]
     },
     "execution_count": 33,
     "metadata": {},
     "output_type": "execute_result"
    }
   ],
   "source": [
    "df['a'].corr(df['c'])"
   ]
  },
  {
   "cell_type": "markdown",
   "id": "0bdd1fb4",
   "metadata": {},
   "source": [
    "# 유익한 꼭 알았으면 하는것"
   ]
  },
  {
   "cell_type": "code",
   "execution_count": 34,
   "id": "702067dd",
   "metadata": {},
   "outputs": [
    {
     "data": {
      "text/html": [
       "<div>\n",
       "<style scoped>\n",
       "    .dataframe tbody tr th:only-of-type {\n",
       "        vertical-align: middle;\n",
       "    }\n",
       "\n",
       "    .dataframe tbody tr th {\n",
       "        vertical-align: top;\n",
       "    }\n",
       "\n",
       "    .dataframe thead th {\n",
       "        text-align: right;\n",
       "    }\n",
       "</style>\n",
       "<table border=\"1\" class=\"dataframe\">\n",
       "  <thead>\n",
       "    <tr style=\"text-align: right;\">\n",
       "      <th></th>\n",
       "      <th>수학</th>\n",
       "      <th>영어</th>\n",
       "      <th>음악</th>\n",
       "      <th>체육</th>\n",
       "    </tr>\n",
       "  </thead>\n",
       "  <tbody>\n",
       "    <tr>\n",
       "      <th>a</th>\n",
       "      <td>90</td>\n",
       "      <td>98</td>\n",
       "      <td>85</td>\n",
       "      <td>100</td>\n",
       "    </tr>\n",
       "    <tr>\n",
       "      <th>b</th>\n",
       "      <td>80</td>\n",
       "      <td>89</td>\n",
       "      <td>95</td>\n",
       "      <td>90</td>\n",
       "    </tr>\n",
       "    <tr>\n",
       "      <th>c</th>\n",
       "      <td>70</td>\n",
       "      <td>95</td>\n",
       "      <td>100</td>\n",
       "      <td>90</td>\n",
       "    </tr>\n",
       "  </tbody>\n",
       "</table>\n",
       "</div>"
      ],
      "text/plain": [
       "   수학  영어   음악   체육\n",
       "a  90  98   85  100\n",
       "b  80  89   95   90\n",
       "c  70  95  100   90"
      ]
     },
     "execution_count": 34,
     "metadata": {},
     "output_type": "execute_result"
    }
   ],
   "source": [
    "df4"
   ]
  },
  {
   "cell_type": "code",
   "execution_count": 35,
   "id": "3c013662",
   "metadata": {},
   "outputs": [
    {
     "data": {
      "text/plain": [
       "수학\n",
       "70    1\n",
       "80    1\n",
       "90    1\n",
       "Name: 영어, dtype: int64"
      ]
     },
     "execution_count": 35,
     "metadata": {},
     "output_type": "execute_result"
    }
   ],
   "source": [
    "df4.groupby(['수학'])['영어'].count()"
   ]
  },
  {
   "cell_type": "code",
   "execution_count": 36,
   "id": "4c940c22",
   "metadata": {},
   "outputs": [],
   "source": [
    "#apply\n",
    "def profit(s):\n",
    "    return s + s * 0.10 # increase of 10%\n",
    "\n",
    "\n",
    "## example) df['new_price'] = df['price'].apply(profit)"
   ]
  },
  {
   "cell_type": "code",
   "execution_count": 37,
   "id": "01fd6786",
   "metadata": {},
   "outputs": [
    {
     "data": {
      "text/html": [
       "<div>\n",
       "<style scoped>\n",
       "    .dataframe tbody tr th:only-of-type {\n",
       "        vertical-align: middle;\n",
       "    }\n",
       "\n",
       "    .dataframe tbody tr th {\n",
       "        vertical-align: top;\n",
       "    }\n",
       "\n",
       "    .dataframe thead th {\n",
       "        text-align: right;\n",
       "    }\n",
       "</style>\n",
       "<table border=\"1\" class=\"dataframe\">\n",
       "  <thead>\n",
       "    <tr style=\"text-align: right;\">\n",
       "      <th></th>\n",
       "      <th>a</th>\n",
       "      <th>b</th>\n",
       "      <th>c</th>\n",
       "      <th>d</th>\n",
       "      <th>e</th>\n",
       "      <th>f</th>\n",
       "    </tr>\n",
       "  </thead>\n",
       "  <tbody>\n",
       "    <tr>\n",
       "      <th>1</th>\n",
       "      <td>-0.959764</td>\n",
       "      <td>0.396396</td>\n",
       "      <td>0.666594</td>\n",
       "      <td>0.026184</td>\n",
       "      <td>NaN</td>\n",
       "      <td>0.555123</td>\n",
       "    </tr>\n",
       "    <tr>\n",
       "      <th>2</th>\n",
       "      <td>1.541180</td>\n",
       "      <td>1.231345</td>\n",
       "      <td>0.578535</td>\n",
       "      <td>-0.620501</td>\n",
       "      <td>NaN</td>\n",
       "      <td>0.791073</td>\n",
       "    </tr>\n",
       "    <tr>\n",
       "      <th>3</th>\n",
       "      <td>-1.123822</td>\n",
       "      <td>-1.198526</td>\n",
       "      <td>-0.238716</td>\n",
       "      <td>1.135752</td>\n",
       "      <td>NaN</td>\n",
       "      <td>0.368378</td>\n",
       "    </tr>\n",
       "    <tr>\n",
       "      <th>4</th>\n",
       "      <td>-1.639327</td>\n",
       "      <td>-1.818252</td>\n",
       "      <td>1.609605</td>\n",
       "      <td>-0.762939</td>\n",
       "      <td>1.0</td>\n",
       "      <td>-0.634636</td>\n",
       "    </tr>\n",
       "    <tr>\n",
       "      <th>5</th>\n",
       "      <td>0.468407</td>\n",
       "      <td>0.127744</td>\n",
       "      <td>-1.192614</td>\n",
       "      <td>-1.336123</td>\n",
       "      <td>1.0</td>\n",
       "      <td>0.380448</td>\n",
       "    </tr>\n",
       "  </tbody>\n",
       "</table>\n",
       "</div>"
      ],
      "text/plain": [
       "          a         b         c         d    e         f\n",
       "1 -0.959764  0.396396  0.666594  0.026184  NaN  0.555123\n",
       "2  1.541180  1.231345  0.578535 -0.620501  NaN  0.791073\n",
       "3 -1.123822 -1.198526 -0.238716  1.135752  NaN  0.368378\n",
       "4 -1.639327 -1.818252  1.609605 -0.762939  1.0 -0.634636\n",
       "5  0.468407  0.127744 -1.192614 -1.336123  1.0  0.380448"
      ]
     },
     "execution_count": 37,
     "metadata": {},
     "output_type": "execute_result"
    }
   ],
   "source": [
    "df.head()"
   ]
  },
  {
   "cell_type": "code",
   "execution_count": 38,
   "id": "f1595fcc",
   "metadata": {},
   "outputs": [],
   "source": [
    "#Capitalize Brand name\n",
    "#부분적으로 적용 \n",
    "# brands = ['Victor Hugo', 'James Scott Bell']\n",
    "# cond = df['author'].isin(brands) #is in 또는 ~df\n",
    "# df['author'][cond] = df['author'][cond].str.lower()\n",
    "# df['author'].unique() # total of 9 brands"
   ]
  }
 ],
 "metadata": {
  "kernelspec": {
   "display_name": "Python 3 (ipykernel)",
   "language": "python",
   "name": "python3"
  },
  "language_info": {
   "codemirror_mode": {
    "name": "ipython",
    "version": 3
   },
   "file_extension": ".py",
   "mimetype": "text/x-python",
   "name": "python",
   "nbconvert_exporter": "python",
   "pygments_lexer": "ipython3",
   "version": "3.9.7"
  }
 },
 "nbformat": 4,
 "nbformat_minor": 5
}
