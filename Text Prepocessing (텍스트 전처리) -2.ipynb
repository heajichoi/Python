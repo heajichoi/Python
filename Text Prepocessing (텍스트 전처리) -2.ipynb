{
 "cells": [
  {
   "cell_type": "markdown",
   "id": "c570a77b",
   "metadata": {},
   "source": [
    "##### Integer Encoding\n",
    " - Integer Encoding -> Padding -> One-Hot Encoding\n",
    " 단어집합(vocabulary)를 만들기 위해서는 문자를 숫자로 바꾸는 integer encoding을 진행함\n",
    " 따라서, 예) 1~5000 까지 단어들에게 인덱스를 부여함. \n",
    " 그리고, 정수 인덱스를 부여하여 구체적인 벡터로 바꾸는것이 원-핫 (ONE HOT ENCODING)이라고 생각하면 됨. \n",
    " \n",
    " \n",
    "- Raw Text에서 tokenize해야함 (split into sentences, or words first)\n",
    "- stopword 제외 & length 2 보다 적은거 제외\n",
    "- dictionary로 만들어서 count 함\n",
    "- 정수 0부터 빈도수에 따라 mapping함 -> vocab 만듬\n",
    "- vocab을 만들어서, vector에 적용함\n",
    "- Matrix 만듬 (특정 word에 따라서 matrix을 만듬) -> One Hot Encoding\n",
    " \n",
    "INTEGER ENCODING\n",
    "* 각 단어를 숫자에 mapping 시킴 \n",
    "* 보통 단어 빈도수를 기준으로 정렬하여 부여함 \n",
    "* 빈도수 순으로 낮은 숫자 정수를 부여하여 (Vocabulary)를 만들으면 좋음 "
   ]
  },
  {
   "cell_type": "markdown",
   "id": "6218361f",
   "metadata": {},
   "source": [
    "## 1) \n",
    "tokenize -> stopword 제외&소문자&길이 2이상만넣음 -> dictionary로 만들음"
   ]
  },
  {
   "cell_type": "code",
   "execution_count": 2,
   "id": "e23742f4",
   "metadata": {},
   "outputs": [],
   "source": [
    "from nltk.tokenize import sent_tokenize\n",
    "from nltk.tokenize import word_tokenize\n",
    "from nltk.corpus import stopwords"
   ]
  },
  {
   "cell_type": "code",
   "execution_count": 3,
   "id": "ab7b4533",
   "metadata": {},
   "outputs": [],
   "source": [
    "raw_text = \"A barber is a person. a barber is good person. a barber is huge person. he Knew A Secret! The Secret He Kept is huge secret. Huge secret. His barber kept his word. a barber kept his word. His barber kept his secret. But keeping and keeping such a huge secret to himself was driving the barber crazy. the barber went up a huge mountain.\""
   ]
  },
  {
   "cell_type": "code",
   "execution_count": 7,
   "id": "9347b9e8",
   "metadata": {},
   "outputs": [
    {
     "name": "stdout",
     "output_type": "stream",
     "text": [
      "['A', 'barber', 'is', 'a', 'person', '.', 'a', 'barber', 'is', 'good', 'person', '.', 'a', 'barber', 'is', 'huge', 'person', '.', 'he', 'Knew', 'A', 'Secret', '!', 'The', 'Secret', 'He', 'Kept', 'is', 'huge', 'secret', '.', 'Huge', 'secret', '.', 'His', 'barber', 'kept', 'his', 'word', '.', 'a', 'barber', 'kept', 'his', 'word', '.', 'His', 'barber', 'kept', 'his', 'secret', '.', 'But', 'keeping', 'and', 'keeping', 'such', 'a', 'huge', 'secret', 'to', 'himself', 'was', 'driving', 'the', 'barber', 'crazy', '.', 'the', 'barber', 'went', 'up', 'a', 'huge', 'mountain', '.']\n"
     ]
    }
   ],
   "source": [
    "tokenizer = word_tokenize(raw_text)\n",
    "print(tokenizer)"
   ]
  },
  {
   "cell_type": "code",
   "execution_count": 222,
   "id": "72cba73c",
   "metadata": {},
   "outputs": [],
   "source": [
    "stop_words = set(stopwords.words('english'))"
   ]
  },
  {
   "cell_type": "code",
   "execution_count": 50,
   "id": "08e9eb09",
   "metadata": {},
   "outputs": [
    {
     "name": "stdout",
     "output_type": "stream",
     "text": [
      "['barber', 'person', 'barber', 'good', 'person', 'barber', 'huge', 'person', 'knew', 'secret', 'secret', 'kept', 'huge', 'secret', 'huge', 'secret', 'barber', 'kept', 'word', 'barber', 'kept', 'word', 'barber', 'kept', 'secret', 'keeping', 'keeping', 'huge', 'secret', 'driving', 'barber', 'crazy', 'barber', 'went', 'huge', 'mountain']\n"
     ]
    }
   ],
   "source": [
    "from collections import Counter\n",
    "lst = list()\n",
    "preprocessed = list()\n",
    "for i in tokenizer:\n",
    "    word = i.lower()\n",
    "    if len(word) <= 2:\n",
    "        continue\n",
    "    if word in stop_words:\n",
    "        continue\n",
    "    lst.append(word)\n",
    "    \n",
    "print(lst)"
   ]
  },
  {
   "cell_type": "code",
   "execution_count": 44,
   "id": "a4eece3c",
   "metadata": {},
   "outputs": [
    {
     "name": "stdout",
     "output_type": "stream",
     "text": [
      "Counter({'barber': 8, 'secret': 6, 'huge': 5, 'kept': 4, 'person': 3, 'word': 2, 'keeping': 2, 'good': 1, 'knew': 1, 'driving': 1, 'crazy': 1, 'went': 1, 'mountain': 1})\n"
     ]
    },
    {
     "data": {
      "text/plain": [
       "[('barber', 8), ('secret', 6), ('huge', 5), ('kept', 4), ('person', 3)]"
      ]
     },
     "execution_count": 44,
     "metadata": {},
     "output_type": "execute_result"
    }
   ],
   "source": [
    "#심지어 sort도 해줌\n",
    "my_counter = (Counter(lst)) \n",
    "#delete vocab_size less than 5\n",
    "print(my_counter)\n",
    "vocab=my_counter.most_common(5)\n",
    "vocab"
   ]
  },
  {
   "cell_type": "code",
   "execution_count": 43,
   "id": "df4f70bb",
   "metadata": {},
   "outputs": [
    {
     "name": "stdout",
     "output_type": "stream",
     "text": [
      "{'barber': 1, 'secret': 2, 'huge': 3, 'kept': 4, 'person': 5}\n"
     ]
    }
   ],
   "source": [
    "# Indexing 부여\n",
    "i=0\n",
    "vocab_dict = {}\n",
    "for word, frequency in vocab:\n",
    "    i = i + 1\n",
    "    vocab_dict[word] = i\n",
    "    \n",
    "print(vocab_dict)"
   ]
  },
  {
   "cell_type": "markdown",
   "id": "e1b97478",
   "metadata": {},
   "source": [
    "## 2 NLTK 의 FreqDist 사용"
   ]
  },
  {
   "cell_type": "code",
   "execution_count": 45,
   "id": "d647c75b",
   "metadata": {},
   "outputs": [],
   "source": [
    "from nltk import FreqDist\n",
    "import numpy as np"
   ]
  },
  {
   "cell_type": "code",
   "execution_count": 52,
   "id": "688e88f0",
   "metadata": {},
   "outputs": [],
   "source": [
    "sentences = sent_tokenize(raw_text)"
   ]
  },
  {
   "cell_type": "code",
   "execution_count": 71,
   "id": "5874b770",
   "metadata": {},
   "outputs": [
    {
     "name": "stdout",
     "output_type": "stream",
     "text": [
      "[['barber', 'person'], ['barber', 'good', 'person'], ['barber', 'huge', 'person'], ['knew', 'secret'], ['secret', 'kept', 'huge', 'secret'], ['huge', 'secret'], ['barber', 'kept', 'word'], ['barber', 'kept', 'word'], ['barber', 'kept', 'secret'], ['keeping', 'keeping', 'huge', 'secret', 'driving', 'barber', 'crazy'], ['barber', 'went', 'huge', 'mountain']]\n"
     ]
    }
   ],
   "source": [
    "#책에서는 sentence로 나눔\n",
    "preprocessed = []\n",
    "for sentence in sentences:\n",
    "    tok = word_tokenize(sentence)\n",
    "    result = []\n",
    "    for word in tok:\n",
    "        word = word.lower()\n",
    "        if len(word)>2:\n",
    "            if word not in stop_words:\n",
    "                result.append(word)\n",
    "    preprocessed.append(result)\n",
    "            \n",
    "print(preprocessed)"
   ]
  },
  {
   "cell_type": "code",
   "execution_count": 72,
   "id": "97e21191",
   "metadata": {},
   "outputs": [
    {
     "name": "stdout",
     "output_type": "stream",
     "text": [
      "<FreqDist with 13 samples and 36 outcomes>\n"
     ]
    },
    {
     "data": {
      "text/plain": [
       "[('barber', 8), ('secret', 6), ('huge', 5), ('kept', 4), ('person', 3)]"
      ]
     },
     "execution_count": 72,
     "metadata": {},
     "output_type": "execute_result"
    }
   ],
   "source": [
    "vocab = FreqDist(np.hstack(preprocessed))\n",
    "print(vocab)\n",
    "vocab_1=vocab.most_common(5)\n",
    "vocab_1"
   ]
  },
  {
   "cell_type": "code",
   "execution_count": 88,
   "id": "9e4210db",
   "metadata": {},
   "outputs": [
    {
     "name": "stdout",
     "output_type": "stream",
     "text": [
      "{'barber': 1, 'secret': 2, 'huge': 3, 'kept': 4, 'person': 5}\n",
      "{'barber': 1, 'secret': 2, 'huge': 3, 'kept': 4, 'person': 5}\n"
     ]
    }
   ],
   "source": [
    "#1\n",
    "word_index = {}\n",
    "for a,b in enumerate(vocab_1):\n",
    "    word_index[b[0]] = a+1\n",
    "print(word_index)\n",
    "#2\n",
    "word_index2 = {word[0] : index+1 for index,word in enumerate(vocab_1)}\n",
    "print(word_index2)"
   ]
  },
  {
   "cell_type": "code",
   "execution_count": 89,
   "id": "0f9fa7a9",
   "metadata": {},
   "outputs": [
    {
     "data": {
      "text/plain": [
       "{'barber': 1, 'secret': 2, 'huge': 3, 'kept': 4, 'person': 5, 'OOV': 6}"
      ]
     },
     "execution_count": 89,
     "metadata": {},
     "output_type": "execute_result"
    }
   ],
   "source": [
    "# Out - Of - Vocabulary (OOV)\n",
    "word_index2['OOV'] = len(word_index2) + 1\n",
    "word_index2"
   ]
  },
  {
   "cell_type": "markdown",
   "id": "8ec941b7",
   "metadata": {},
   "source": [
    "# 3 Use Keras"
   ]
  },
  {
   "cell_type": "code",
   "execution_count": 91,
   "id": "02a5d651",
   "metadata": {},
   "outputs": [],
   "source": [
    "from tensorflow.keras.preprocessing.text import Tokenizer"
   ]
  },
  {
   "cell_type": "code",
   "execution_count": 122,
   "id": "424f68ff",
   "metadata": {},
   "outputs": [
    {
     "name": "stdout",
     "output_type": "stream",
     "text": [
      "[['barber', 'person'], ['barber', 'good', 'person'], ['barber', 'huge', 'person'], ['knew', 'secret'], ['secret', 'kept', 'huge', 'secret'], ['huge', 'secret'], ['barber', 'kept', 'word'], ['barber', 'kept', 'word'], ['barber', 'kept', 'secret'], ['keeping', 'keeping', 'huge', 'secret', 'driving', 'barber', 'crazy'], ['barber', 'went', 'huge', 'mountain']]\n"
     ]
    }
   ],
   "source": [
    "#sentence 로 나눠서 각 list에 들어가있는 \"preprocessed 사용 \"\n",
    "print(preprocessed)"
   ]
  },
  {
   "cell_type": "code",
   "execution_count": 159,
   "id": "30590231",
   "metadata": {},
   "outputs": [
    {
     "name": "stdout",
     "output_type": "stream",
     "text": [
      "{'barber': 1, 'secret': 2, 'huge': 3, 'kept': 4, 'person': 5, 'word': 6, 'keeping': 7, 'good': 8, 'knew': 9, 'driving': 10, 'crazy': 11, 'went': 12, 'mountain': 13} \n",
      "\n",
      "OrderedDict([('barber', 8), ('person', 3), ('good', 1), ('huge', 5), ('knew', 1), ('secret', 6), ('kept', 4), ('word', 2), ('keeping', 2), ('driving', 1), ('crazy', 1), ('went', 1), ('mountain', 1)])\n"
     ]
    }
   ],
   "source": [
    "tokenizer = Tokenizer()\n",
    "tokenizer.fit_on_texts(preprocessed) \n",
    "#너무 쉬움. dictionary에 다 넣어줌, 빈도수를 이용해서 indexing까지 해줌\n",
    "print(tokenizer.word_index,\"\\n\") # index 부여\n",
    "print(tokenizer.word_counts) # word count"
   ]
  },
  {
   "cell_type": "code",
   "execution_count": 160,
   "id": "8bd6ec95",
   "metadata": {},
   "outputs": [
    {
     "name": "stdout",
     "output_type": "stream",
     "text": [
      "[[1, 5], [1, 8, 5], [1, 3, 5], [9, 2], [2, 4, 3, 2], [3, 2], [1, 4, 6], [1, 4, 6], [1, 4, 2], [7, 7, 3, 2, 10, 1, 11], [1, 12, 3, 13]]\n"
     ]
    }
   ],
   "source": [
    "print(tokenizer.texts_to_sequences(preprocessed))\n",
    "encode = tokenizer.texts_to_sequences(preprocessed)\n",
    "encoded = tokenizer.texts_to_sequences(preprocessed)"
   ]
  },
  {
   "cell_type": "code",
   "execution_count": 125,
   "id": "0e61a691",
   "metadata": {},
   "outputs": [
    {
     "name": "stdout",
     "output_type": "stream",
     "text": [
      "[[1, 5], [1, 5], [1, 3, 5], [2], [2, 4, 3, 2], [3, 2], [1, 4], [1, 4], [1, 4, 2], [3, 2, 1], [1, 3]]\n"
     ]
    }
   ],
   "source": [
    "tokenizer = Tokenizer(num_words = 6) #상위 5개\n",
    "tokenizer.fit_on_texts(preprocessed)\n",
    "print(tokenizer.texts_to_sequences(preprocessed))"
   ]
  },
  {
   "cell_type": "code",
   "execution_count": 126,
   "id": "7fe8e651",
   "metadata": {},
   "outputs": [
    {
     "name": "stdout",
     "output_type": "stream",
     "text": [
      "[[2, 6], [2, 1, 6], [2, 4, 6], [1, 3], [3, 5, 4, 3], [4, 3], [2, 5, 1], [2, 5, 1], [2, 5, 3], [1, 1, 4, 3, 1, 2, 1], [2, 1, 4, 1]]\n"
     ]
    }
   ],
   "source": [
    "#OOV 설정\n",
    "tokenizer = Tokenizer(num_words = 7, oov_token=\"OOV\")\n",
    "tokenizer.fit_on_texts(preprocessed)\n",
    "print(tokenizer.texts_to_sequences(preprocessed))"
   ]
  },
  {
   "cell_type": "code",
   "execution_count": 127,
   "id": "168b5a3b",
   "metadata": {},
   "outputs": [
    {
     "name": "stdout",
     "output_type": "stream",
     "text": [
      "1\n"
     ]
    }
   ],
   "source": [
    "print(tokenizer.word_index['OOV']) #OOV 는 1로 설정됨"
   ]
  },
  {
   "cell_type": "markdown",
   "id": "ff6788d7",
   "metadata": {},
   "source": [
    "# Padding - 길이 동일하게 맞춰주기"
   ]
  },
  {
   "cell_type": "code",
   "execution_count": 154,
   "id": "202afdb1",
   "metadata": {},
   "outputs": [],
   "source": [
    "#Using NUMPY\n",
    "numpy as np\n",
    "from tensorflow.keras.preprocessing.text import Tokenizer\n",
    "# NUMPY - find max lwength, and then array until the max. ength\n",
    "\n",
    "i = []\n",
    "for item in encode:\n",
    "    i.append(len(item))\n",
    "max_len = max(i) "
   ]
  },
  {
   "cell_type": "code",
   "execution_count": 155,
   "id": "e1360b69",
   "metadata": {},
   "outputs": [
    {
     "data": {
      "text/plain": [
       "array([[ 1,  5,  0,  0,  0,  0,  0],\n",
       "       [ 1,  8,  5,  0,  0,  0,  0],\n",
       "       [ 1,  3,  5,  0,  0,  0,  0],\n",
       "       [ 9,  2,  0,  0,  0,  0,  0],\n",
       "       [ 2,  4,  3,  2,  0,  0,  0],\n",
       "       [ 3,  2,  0,  0,  0,  0,  0],\n",
       "       [ 1,  4,  6,  0,  0,  0,  0],\n",
       "       [ 1,  4,  6,  0,  0,  0,  0],\n",
       "       [ 1,  4,  2,  0,  0,  0,  0],\n",
       "       [ 7,  7,  3,  2, 10,  1, 11],\n",
       "       [ 1, 12,  3, 13,  0,  0,  0]])"
      ]
     },
     "execution_count": 155,
     "metadata": {},
     "output_type": "execute_result"
    }
   ],
   "source": [
    "# max 길이로 맞출거임, 7보다 작은경우에는 0으로 대체할거임\n",
    "\n",
    "for sentence in encode:\n",
    "    while len(sentence) < max_len:\n",
    "        sentence.append(0)\n",
    "padded = np.array(encode)\n",
    "padded #zero-padded"
   ]
  },
  {
   "cell_type": "code",
   "execution_count": 156,
   "id": "31e6dfb2",
   "metadata": {},
   "outputs": [],
   "source": [
    "#Using KERAS \n",
    "from tensorflow.keras.preprocessing.sequence import pad_sequences"
   ]
  },
  {
   "cell_type": "code",
   "execution_count": 162,
   "id": "580c7b30",
   "metadata": {},
   "outputs": [
    {
     "name": "stdout",
     "output_type": "stream",
     "text": [
      "[[1, 5], [1, 8, 5], [1, 3, 5], [9, 2], [2, 4, 3, 2], [3, 2], [1, 4, 6], [1, 4, 6], [1, 4, 2], [7, 7, 3, 2, 10, 1, 11], [1, 12, 3, 13]]\n"
     ]
    }
   ],
   "source": [
    "print(encoded)"
   ]
  },
  {
   "cell_type": "code",
   "execution_count": 164,
   "id": "a10272ce",
   "metadata": {
    "scrolled": true
   },
   "outputs": [
    {
     "data": {
      "text/plain": [
       "array([[ 0,  0,  0,  0,  0,  1,  5],\n",
       "       [ 0,  0,  0,  0,  1,  8,  5],\n",
       "       [ 0,  0,  0,  0,  1,  3,  5],\n",
       "       [ 0,  0,  0,  0,  0,  9,  2],\n",
       "       [ 0,  0,  0,  2,  4,  3,  2],\n",
       "       [ 0,  0,  0,  0,  0,  3,  2],\n",
       "       [ 0,  0,  0,  0,  1,  4,  6],\n",
       "       [ 0,  0,  0,  0,  1,  4,  6],\n",
       "       [ 0,  0,  0,  0,  1,  4,  2],\n",
       "       [ 7,  7,  3,  2, 10,  1, 11],\n",
       "       [ 0,  0,  0,  1, 12,  3, 13]], dtype=int32)"
      ]
     },
     "execution_count": 164,
     "metadata": {},
     "output_type": "execute_result"
    }
   ],
   "source": [
    "padded = pad_sequences(encoded)\n",
    "padded #저절로 padding"
   ]
  },
  {
   "cell_type": "code",
   "execution_count": 169,
   "id": "e1c2b3bb",
   "metadata": {},
   "outputs": [
    {
     "data": {
      "text/plain": [
       "array([[ 1,  5,  0,  0,  0,  0,  0],\n",
       "       [ 1,  8,  5,  0,  0,  0,  0],\n",
       "       [ 1,  3,  5,  0,  0,  0,  0],\n",
       "       [ 9,  2,  0,  0,  0,  0,  0],\n",
       "       [ 2,  4,  3,  2,  0,  0,  0],\n",
       "       [ 3,  2,  0,  0,  0,  0,  0],\n",
       "       [ 1,  4,  6,  0,  0,  0,  0],\n",
       "       [ 1,  4,  6,  0,  0,  0,  0],\n",
       "       [ 1,  4,  2,  0,  0,  0,  0],\n",
       "       [ 7,  7,  3,  2, 10,  1, 11],\n",
       "       [ 1, 12,  3, 13,  0,  0,  0]], dtype=int32)"
      ]
     },
     "execution_count": 169,
     "metadata": {},
     "output_type": "execute_result"
    }
   ],
   "source": [
    "padded_1= pad_sequences(encoded, padding = 'post')\n",
    "padded_1 #저절로 padding"
   ]
  },
  {
   "cell_type": "code",
   "execution_count": 172,
   "id": "4751c3e2",
   "metadata": {},
   "outputs": [
    {
     "data": {
      "text/plain": [
       "array([[ 1,  5,  0,  0,  0],\n",
       "       [ 1,  8,  5,  0,  0],\n",
       "       [ 1,  3,  5,  0,  0],\n",
       "       [ 9,  2,  0,  0,  0],\n",
       "       [ 2,  4,  3,  2,  0],\n",
       "       [ 3,  2,  0,  0,  0],\n",
       "       [ 1,  4,  6,  0,  0],\n",
       "       [ 1,  4,  6,  0,  0],\n",
       "       [ 1,  4,  2,  0,  0],\n",
       "       [ 7,  7,  3,  2, 10],\n",
       "       [ 1, 12,  3, 13,  0]], dtype=int32)"
      ]
     },
     "execution_count": 172,
     "metadata": {},
     "output_type": "execute_result"
    }
   ],
   "source": [
    "padded_2= pad_sequences(encoded, padding = 'post', value = 0, truncating='post', maxlen = 5 )\n",
    "padded_2 #저절로 padding"
   ]
  },
  {
   "cell_type": "markdown",
   "id": "789b6733",
   "metadata": {},
   "source": [
    "# One-Hot Encoding"
   ]
  },
  {
   "cell_type": "code",
   "execution_count": 173,
   "id": "47bd993e",
   "metadata": {},
   "outputs": [],
   "source": [
    "from konlpy.tag import Okt"
   ]
  },
  {
   "cell_type": "code",
   "execution_count": 175,
   "id": "ba567e2f",
   "metadata": {},
   "outputs": [
    {
     "name": "stdout",
     "output_type": "stream",
     "text": [
      "['나', '는', '자연어', '처리', '를', '배운다']\n"
     ]
    }
   ],
   "source": [
    "okt = Okt()\n",
    "tokens = okt.morphs('나는 자연어 처리를 배운다')\n",
    "print(tokens)"
   ]
  },
  {
   "cell_type": "code",
   "execution_count": 183,
   "id": "f2e1203c",
   "metadata": {},
   "outputs": [
    {
     "data": {
      "text/plain": [
       "{'나': 0, '는': 1, '자연어': 2, '처리': 3, '를': 4, '배운다': 5}"
      ]
     },
     "execution_count": 183,
     "metadata": {},
     "output_type": "execute_result"
    }
   ],
   "source": [
    "word_to_index = {word : index for index, word in enumerate(tokens)}\n",
    "word_to_index"
   ]
  },
  {
   "cell_type": "code",
   "execution_count": 184,
   "id": "109de725",
   "metadata": {},
   "outputs": [],
   "source": [
    "def one_hot_encoding(word, word_to_index):\n",
    "  one_hot_vector = [0]*(len(word_to_index))\n",
    "  index = word_to_index[word]\n",
    "  one_hot_vector[index] = 1\n",
    "  return one_hot_vector"
   ]
  },
  {
   "cell_type": "code",
   "execution_count": 185,
   "id": "ef9831d4",
   "metadata": {},
   "outputs": [
    {
     "data": {
      "text/plain": [
       "[0, 0, 1, 0, 0, 0]"
      ]
     },
     "execution_count": 185,
     "metadata": {},
     "output_type": "execute_result"
    }
   ],
   "source": [
    "one_hot_encoding('자연어', word_to_index) # 원-핫 벡터"
   ]
  },
  {
   "cell_type": "code",
   "execution_count": 186,
   "id": "ba4c2139",
   "metadata": {},
   "outputs": [],
   "source": [
    "from tensorflow.keras.preprocessing.text import Tokenizer\n",
    "from tensorflow.keras.utils import to_categorical"
   ]
  },
  {
   "cell_type": "code",
   "execution_count": 218,
   "id": "57e95fa6",
   "metadata": {},
   "outputs": [],
   "source": [
    "text = \"나랑 점심 먹으러 갈래 점심 메뉴는 햄버거 갈래 갈래 햄버거 최고야\"\n",
    "tokenizer = Tokenizer()\n",
    "tokenizer.fit_on_texts([text])"
   ]
  },
  {
   "cell_type": "code",
   "execution_count": 219,
   "id": "37241384",
   "metadata": {},
   "outputs": [
    {
     "name": "stdout",
     "output_type": "stream",
     "text": [
      "{'갈래': 1, '점심': 2, '햄버거': 3, '나랑': 4, '먹으러': 5, '메뉴는': 6, '최고야': 7}\n",
      "OrderedDict([('나랑', 1), ('점심', 2), ('먹으러', 1), ('갈래', 3), ('메뉴는', 1), ('햄버거', 2), ('최고야', 1)])\n"
     ]
    }
   ],
   "source": [
    "print(tokenizer.word_index)\n",
    "print(tokenizer.word_counts)"
   ]
  },
  {
   "cell_type": "code",
   "execution_count": 220,
   "id": "c8b66dd9",
   "metadata": {},
   "outputs": [
    {
     "data": {
      "text/plain": [
       "[2, 5, 1, 6, 3, 7]"
      ]
     },
     "execution_count": 220,
     "metadata": {},
     "output_type": "execute_result"
    }
   ],
   "source": [
    "sub_text = \"점심 먹으러 갈래 메뉴는 햄버거 최고야\"\n",
    "encoded = tokenizer.texts_to_sequences([sub_text])[0]\n",
    "encoded"
   ]
  },
  {
   "cell_type": "code",
   "execution_count": 216,
   "id": "614ce298",
   "metadata": {},
   "outputs": [
    {
     "name": "stdout",
     "output_type": "stream",
     "text": [
      "[[0. 0. 1. 0. 0. 0. 0. 0.]\n",
      " [0. 0. 0. 0. 0. 1. 0. 0.]\n",
      " [0. 1. 0. 0. 0. 0. 0. 0.]\n",
      " [0. 0. 0. 0. 0. 0. 1. 0.]\n",
      " [0. 0. 0. 1. 0. 0. 0. 0.]\n",
      " [0. 0. 0. 0. 0. 0. 0. 1.]]\n"
     ]
    }
   ],
   "source": [
    "one_hot = to_categorical(encoded) #matrix만들기/ 각 index에 대한 원-핫 백터\n",
    "print(one_hot)"
   ]
  },
  {
   "cell_type": "code",
   "execution_count": 228,
   "id": "c8ab8db2",
   "metadata": {},
   "outputs": [
    {
     "name": "stdout",
     "output_type": "stream",
     "text": [
      "나랑 점심 먹으러 갈래 점심 메뉴는 햄버거 갈래 갈래 햄버거 최고야\n"
     ]
    },
    {
     "data": {
      "text/plain": [
       "[4, 2, 5, 1, 2, 6, 3, 1, 1, 3, 7]"
      ]
     },
     "execution_count": 228,
     "metadata": {},
     "output_type": "execute_result"
    }
   ],
   "source": [
    "#text을 가지고 해보자\n",
    "print(text)\n",
    "tokenizer = Tokenizer()\n",
    "tokenizer.fit_on_texts([text])\n",
    "coding = tokenizer.texts_to_sequences([text])[0]\n",
    "coding"
   ]
  },
  {
   "cell_type": "code",
   "execution_count": 231,
   "id": "c54f6027",
   "metadata": {},
   "outputs": [
    {
     "name": "stdout",
     "output_type": "stream",
     "text": [
      "11\n"
     ]
    },
    {
     "data": {
      "text/plain": [
       "array([[0., 0., 0., 0., 1., 0., 0., 0.],\n",
       "       [0., 0., 1., 0., 0., 0., 0., 0.],\n",
       "       [0., 0., 0., 0., 0., 1., 0., 0.],\n",
       "       [0., 1., 0., 0., 0., 0., 0., 0.],\n",
       "       [0., 0., 1., 0., 0., 0., 0., 0.],\n",
       "       [0., 0., 0., 0., 0., 0., 1., 0.],\n",
       "       [0., 0., 0., 1., 0., 0., 0., 0.],\n",
       "       [0., 1., 0., 0., 0., 0., 0., 0.],\n",
       "       [0., 1., 0., 0., 0., 0., 0., 0.],\n",
       "       [0., 0., 0., 1., 0., 0., 0., 0.],\n",
       "       [0., 0., 0., 0., 0., 0., 0., 1.]], dtype=float32)"
      ]
     },
     "execution_count": 231,
     "metadata": {},
     "output_type": "execute_result"
    }
   ],
   "source": [
    "print(len(coding))\n",
    "one_hot_2 = to_categorical(coding)\n",
    "one_hot_2"
   ]
  },
  {
   "cell_type": "code",
   "execution_count": null,
   "id": "844ea863",
   "metadata": {},
   "outputs": [],
   "source": []
  }
 ],
 "metadata": {
  "kernelspec": {
   "display_name": "Python 3 (ipykernel)",
   "language": "python",
   "name": "python3"
  },
  "language_info": {
   "codemirror_mode": {
    "name": "ipython",
    "version": 3
   },
   "file_extension": ".py",
   "mimetype": "text/x-python",
   "name": "python",
   "nbconvert_exporter": "python",
   "pygments_lexer": "ipython3",
   "version": "3.9.7"
  }
 },
 "nbformat": 4,
 "nbformat_minor": 5
}
