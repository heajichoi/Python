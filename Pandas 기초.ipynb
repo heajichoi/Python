{
 "cells": [
  {
   "cell_type": "markdown",
   "id": "1cfc1d16",
   "metadata": {},
   "source": [
    "# Pandas"
   ]
  },
  {
   "cell_type": "code",
   "execution_count": 3,
   "id": "bd7bd2f8",
   "metadata": {},
   "outputs": [],
   "source": [
    "import pandas as pd\n",
    "import numpy as np"
   ]
  },
  {
   "cell_type": "markdown",
   "id": "6cff9b7e",
   "metadata": {},
   "source": [
    "# Series & Index 설정"
   ]
  },
  {
   "cell_type": "code",
   "execution_count": 7,
   "id": "49d08600",
   "metadata": {},
   "outputs": [],
   "source": [
    "obj = pd.Series([4, 7, -5, 3],index = ['a','b','c','d']) "
   ]
  },
  {
   "cell_type": "code",
   "execution_count": 8,
   "id": "22dd29d4",
   "metadata": {},
   "outputs": [
    {
     "data": {
      "text/plain": [
       "array([ 4,  7, -5,  3])"
      ]
     },
     "execution_count": 8,
     "metadata": {},
     "output_type": "execute_result"
    }
   ],
   "source": [
    "obj.values"
   ]
  },
  {
   "cell_type": "code",
   "execution_count": 9,
   "id": "691f1ba5",
   "metadata": {},
   "outputs": [
    {
     "data": {
      "text/plain": [
       "Index(['a', 'b', 'c', 'd'], dtype='object')"
      ]
     },
     "execution_count": 9,
     "metadata": {},
     "output_type": "execute_result"
    }
   ],
   "source": [
    "obj.index"
   ]
  },
  {
   "cell_type": "code",
   "execution_count": 11,
   "id": "7f198fd6",
   "metadata": {},
   "outputs": [
    {
     "data": {
      "text/plain": [
       "Kim        35000\n",
       "Beomwoo    67000\n",
       "Joan       12000\n",
       "Choi        4000\n",
       "dtype: int64"
      ]
     },
     "execution_count": 11,
     "metadata": {},
     "output_type": "execute_result"
    }
   ],
   "source": [
    "#Dict -> 자료형으로 변경하기\n",
    "sdata = {'Kim': 35000, 'Beomwoo': 67000, 'Joan': 12000, 'Choi': 4000}\n",
    "obj3 = pd.Series(sdata)\n",
    "obj3"
   ]
  },
  {
   "cell_type": "code",
   "execution_count": 13,
   "id": "8dd43355",
   "metadata": {},
   "outputs": [
    {
     "data": {
      "text/plain": [
       "Names\n",
       "Kim        35000\n",
       "Beomwoo    67000\n",
       "Joan       12000\n",
       "Choi        4000\n",
       "Name: NAME, dtype: int64"
      ]
     },
     "execution_count": 13,
     "metadata": {},
     "output_type": "execute_result"
    }
   ],
   "source": [
    "#이름 설정 & index 설정\n",
    "obj3.name = \"NAME\"\n",
    "obj3.index.name = \"Names\"\n",
    "obj3"
   ]
  },
  {
   "cell_type": "markdown",
   "id": "fdea8fc9",
   "metadata": {},
   "source": [
    "# DataFrame - series를 여러 개 합친"
   ]
  },
  {
   "cell_type": "code",
   "execution_count": 17,
   "id": "ea03c910",
   "metadata": {},
   "outputs": [
    {
     "data": {
      "text/html": [
       "<div>\n",
       "<style scoped>\n",
       "    .dataframe tbody tr th:only-of-type {\n",
       "        vertical-align: middle;\n",
       "    }\n",
       "\n",
       "    .dataframe tbody tr th {\n",
       "        vertical-align: top;\n",
       "    }\n",
       "\n",
       "    .dataframe thead th {\n",
       "        text-align: right;\n",
       "    }\n",
       "</style>\n",
       "<table border=\"1\" class=\"dataframe\">\n",
       "  <thead>\n",
       "    <tr style=\"text-align: right;\">\n",
       "      <th></th>\n",
       "      <th>c0</th>\n",
       "      <th>c1</th>\n",
       "      <th>c2</th>\n",
       "      <th>c3</th>\n",
       "      <th>c4</th>\n",
       "    </tr>\n",
       "  </thead>\n",
       "  <tbody>\n",
       "    <tr>\n",
       "      <th>0</th>\n",
       "      <td>1</td>\n",
       "      <td>4</td>\n",
       "      <td>7</td>\n",
       "      <td>10</td>\n",
       "      <td>13</td>\n",
       "    </tr>\n",
       "    <tr>\n",
       "      <th>1</th>\n",
       "      <td>2</td>\n",
       "      <td>5</td>\n",
       "      <td>8</td>\n",
       "      <td>11</td>\n",
       "      <td>14</td>\n",
       "    </tr>\n",
       "    <tr>\n",
       "      <th>2</th>\n",
       "      <td>3</td>\n",
       "      <td>6</td>\n",
       "      <td>9</td>\n",
       "      <td>12</td>\n",
       "      <td>15</td>\n",
       "    </tr>\n",
       "  </tbody>\n",
       "</table>\n",
       "</div>"
      ],
      "text/plain": [
       "   c0  c1  c2  c3  c4\n",
       "0   1   4   7  10  13\n",
       "1   2   5   8  11  14\n",
       "2   3   6   9  12  15"
      ]
     },
     "execution_count": 17,
     "metadata": {},
     "output_type": "execute_result"
    }
   ],
   "source": [
    "dict_data = {'c0':[1,2,3],'c1':[4,5,6],'c2':[7,8,9],'c3':[10,11,12],'c4':[13,14,15]}\n",
    "#DataFrame만들가\n",
    "df=pd.DataFrame(dict_data)\n",
    "df"
   ]
  },
  {
   "cell_type": "code",
   "execution_count": 25,
   "id": "5789303e",
   "metadata": {},
   "outputs": [
    {
     "data": {
      "text/html": [
       "<div>\n",
       "<style scoped>\n",
       "    .dataframe tbody tr th:only-of-type {\n",
       "        vertical-align: middle;\n",
       "    }\n",
       "\n",
       "    .dataframe tbody tr th {\n",
       "        vertical-align: top;\n",
       "    }\n",
       "\n",
       "    .dataframe thead th {\n",
       "        text-align: right;\n",
       "    }\n",
       "</style>\n",
       "<table border=\"1\" class=\"dataframe\">\n",
       "  <thead>\n",
       "    <tr style=\"text-align: right;\">\n",
       "      <th></th>\n",
       "      <th>1</th>\n",
       "      <th>2</th>\n",
       "      <th>3</th>\n",
       "      <th>4</th>\n",
       "      <th>5</th>\n",
       "    </tr>\n",
       "  </thead>\n",
       "  <tbody>\n",
       "    <tr>\n",
       "      <th>a</th>\n",
       "      <td>1</td>\n",
       "      <td>4</td>\n",
       "      <td>7</td>\n",
       "      <td>10</td>\n",
       "      <td>13</td>\n",
       "    </tr>\n",
       "    <tr>\n",
       "      <th>b</th>\n",
       "      <td>2</td>\n",
       "      <td>5</td>\n",
       "      <td>8</td>\n",
       "      <td>11</td>\n",
       "      <td>14</td>\n",
       "    </tr>\n",
       "    <tr>\n",
       "      <th>c</th>\n",
       "      <td>3</td>\n",
       "      <td>6</td>\n",
       "      <td>9</td>\n",
       "      <td>12</td>\n",
       "      <td>15</td>\n",
       "    </tr>\n",
       "  </tbody>\n",
       "</table>\n",
       "</div>"
      ],
      "text/plain": [
       "   1  2  3   4   5\n",
       "a  1  4  7  10  13\n",
       "b  2  5  8  11  14\n",
       "c  3  6  9  12  15"
      ]
     },
     "execution_count": 25,
     "metadata": {},
     "output_type": "execute_result"
    }
   ],
   "source": [
    "#열 이름 바꾸기\n",
    "df.columns = ['1','2','3','4','5']\n",
    "#행 이름 바꾸기\n",
    "df.index = ['a','b','c']\n",
    "df"
   ]
  },
  {
   "cell_type": "code",
   "execution_count": 26,
   "id": "4b001b28",
   "metadata": {},
   "outputs": [
    {
     "data": {
      "text/html": [
       "<div>\n",
       "<style scoped>\n",
       "    .dataframe tbody tr th:only-of-type {\n",
       "        vertical-align: middle;\n",
       "    }\n",
       "\n",
       "    .dataframe tbody tr th {\n",
       "        vertical-align: top;\n",
       "    }\n",
       "\n",
       "    .dataframe thead th {\n",
       "        text-align: right;\n",
       "    }\n",
       "</style>\n",
       "<table border=\"1\" class=\"dataframe\">\n",
       "  <thead>\n",
       "    <tr style=\"text-align: right;\">\n",
       "      <th></th>\n",
       "      <th>0</th>\n",
       "      <th>2</th>\n",
       "      <th>3</th>\n",
       "      <th>4</th>\n",
       "      <th>5</th>\n",
       "    </tr>\n",
       "  </thead>\n",
       "  <tbody>\n",
       "    <tr>\n",
       "      <th>a</th>\n",
       "      <td>1</td>\n",
       "      <td>4</td>\n",
       "      <td>7</td>\n",
       "      <td>10</td>\n",
       "      <td>13</td>\n",
       "    </tr>\n",
       "    <tr>\n",
       "      <th>b</th>\n",
       "      <td>2</td>\n",
       "      <td>5</td>\n",
       "      <td>8</td>\n",
       "      <td>11</td>\n",
       "      <td>14</td>\n",
       "    </tr>\n",
       "    <tr>\n",
       "      <th>c</th>\n",
       "      <td>3</td>\n",
       "      <td>6</td>\n",
       "      <td>9</td>\n",
       "      <td>12</td>\n",
       "      <td>15</td>\n",
       "    </tr>\n",
       "  </tbody>\n",
       "</table>\n",
       "</div>"
      ],
      "text/plain": [
       "   0  2  3   4   5\n",
       "a  1  4  7  10  13\n",
       "b  2  5  8  11  14\n",
       "c  3  6  9  12  15"
      ]
     },
     "execution_count": 26,
     "metadata": {},
     "output_type": "execute_result"
    }
   ],
   "source": [
    "#열 이름 바꾸기\n",
    "df.rename(columns={'1':'0'}, inplace = True)\n",
    "df"
   ]
  },
  {
   "cell_type": "code",
   "execution_count": 27,
   "id": "eaa69b20",
   "metadata": {
    "scrolled": true
   },
   "outputs": [
    {
     "data": {
      "text/html": [
       "<div>\n",
       "<style scoped>\n",
       "    .dataframe tbody tr th:only-of-type {\n",
       "        vertical-align: middle;\n",
       "    }\n",
       "\n",
       "    .dataframe tbody tr th {\n",
       "        vertical-align: top;\n",
       "    }\n",
       "\n",
       "    .dataframe thead th {\n",
       "        text-align: right;\n",
       "    }\n",
       "</style>\n",
       "<table border=\"1\" class=\"dataframe\">\n",
       "  <thead>\n",
       "    <tr style=\"text-align: right;\">\n",
       "      <th></th>\n",
       "      <th>0</th>\n",
       "      <th>2</th>\n",
       "      <th>4</th>\n",
       "      <th>5</th>\n",
       "    </tr>\n",
       "  </thead>\n",
       "  <tbody>\n",
       "    <tr>\n",
       "      <th>b</th>\n",
       "      <td>2</td>\n",
       "      <td>5</td>\n",
       "      <td>11</td>\n",
       "      <td>14</td>\n",
       "    </tr>\n",
       "    <tr>\n",
       "      <th>c</th>\n",
       "      <td>3</td>\n",
       "      <td>6</td>\n",
       "      <td>12</td>\n",
       "      <td>15</td>\n",
       "    </tr>\n",
       "  </tbody>\n",
       "</table>\n",
       "</div>"
      ],
      "text/plain": [
       "   0  2   4   5\n",
       "b  2  5  11  14\n",
       "c  3  6  12  15"
      ]
     },
     "execution_count": 27,
     "metadata": {},
     "output_type": "execute_result"
    }
   ],
   "source": [
    "#복사 -> DROP\n",
    "\n",
    "df2=df.copy()\n",
    "#행 drop\n",
    "df2.drop('a',inplace=True)\n",
    "#열 drop\n",
    "df2.drop('3',axis=1,inplace=True)\n",
    "df2"
   ]
  },
  {
   "cell_type": "markdown",
   "id": "ee10748f",
   "metadata": {},
   "source": [
    "# DataFrame indexing\n",
    "loc = 이름으로 indexing\n",
    "iloc = 숫자로 indexing"
   ]
  },
  {
   "cell_type": "code",
   "execution_count": 4,
   "id": "d1ac3c6f",
   "metadata": {},
   "outputs": [],
   "source": [
    "exam_data = {'수학':[90,80,70], '영어':[98,89,95],\n",
    "            '음악':[85,95,100], '체육':[100,90,90]}"
   ]
  },
  {
   "cell_type": "code",
   "execution_count": 5,
   "id": "31305a1e",
   "metadata": {},
   "outputs": [
    {
     "data": {
      "text/html": [
       "<div>\n",
       "<style scoped>\n",
       "    .dataframe tbody tr th:only-of-type {\n",
       "        vertical-align: middle;\n",
       "    }\n",
       "\n",
       "    .dataframe tbody tr th {\n",
       "        vertical-align: top;\n",
       "    }\n",
       "\n",
       "    .dataframe thead th {\n",
       "        text-align: right;\n",
       "    }\n",
       "</style>\n",
       "<table border=\"1\" class=\"dataframe\">\n",
       "  <thead>\n",
       "    <tr style=\"text-align: right;\">\n",
       "      <th></th>\n",
       "      <th>수학</th>\n",
       "      <th>영어</th>\n",
       "      <th>음악</th>\n",
       "      <th>체육</th>\n",
       "    </tr>\n",
       "  </thead>\n",
       "  <tbody>\n",
       "    <tr>\n",
       "      <th>a</th>\n",
       "      <td>90</td>\n",
       "      <td>98</td>\n",
       "      <td>85</td>\n",
       "      <td>100</td>\n",
       "    </tr>\n",
       "    <tr>\n",
       "      <th>b</th>\n",
       "      <td>80</td>\n",
       "      <td>89</td>\n",
       "      <td>95</td>\n",
       "      <td>90</td>\n",
       "    </tr>\n",
       "    <tr>\n",
       "      <th>c</th>\n",
       "      <td>70</td>\n",
       "      <td>95</td>\n",
       "      <td>100</td>\n",
       "      <td>90</td>\n",
       "    </tr>\n",
       "  </tbody>\n",
       "</table>\n",
       "</div>"
      ],
      "text/plain": [
       "   수학  영어   음악   체육\n",
       "a  90  98   85  100\n",
       "b  80  89   95   90\n",
       "c  70  95  100   90"
      ]
     },
     "execution_count": 5,
     "metadata": {},
     "output_type": "execute_result"
    }
   ],
   "source": [
    "df4 = pd.DataFrame(exam_data, index = ['a','b','c'])\n",
    "df4"
   ]
  },
  {
   "cell_type": "code",
   "execution_count": 45,
   "id": "5380ff26",
   "metadata": {},
   "outputs": [
    {
     "data": {
      "text/plain": [
       "수학     70\n",
       "영어     95\n",
       "음악    100\n",
       "체육     90\n",
       "Name: c, dtype: int64"
      ]
     },
     "execution_count": 45,
     "metadata": {},
     "output_type": "execute_result"
    }
   ],
   "source": [
    "#row기준으로 자르기 \n",
    "label1 = df4.loc['b'] #index b / row b 가져오기\n",
    "label2 = df4.iloc[2] #두번째 position (즉 c) 가져오기\n",
    "label1\n",
    "label2"
   ]
  },
  {
   "cell_type": "code",
   "execution_count": 46,
   "id": "46832942",
   "metadata": {},
   "outputs": [
    {
     "data": {
      "text/html": [
       "<div>\n",
       "<style scoped>\n",
       "    .dataframe tbody tr th:only-of-type {\n",
       "        vertical-align: middle;\n",
       "    }\n",
       "\n",
       "    .dataframe tbody tr th {\n",
       "        vertical-align: top;\n",
       "    }\n",
       "\n",
       "    .dataframe thead th {\n",
       "        text-align: right;\n",
       "    }\n",
       "</style>\n",
       "<table border=\"1\" class=\"dataframe\">\n",
       "  <thead>\n",
       "    <tr style=\"text-align: right;\">\n",
       "      <th></th>\n",
       "      <th>수학</th>\n",
       "      <th>영어</th>\n",
       "      <th>음악</th>\n",
       "      <th>체육</th>\n",
       "    </tr>\n",
       "  </thead>\n",
       "  <tbody>\n",
       "    <tr>\n",
       "      <th>b</th>\n",
       "      <td>80</td>\n",
       "      <td>89</td>\n",
       "      <td>95</td>\n",
       "      <td>90</td>\n",
       "    </tr>\n",
       "    <tr>\n",
       "      <th>c</th>\n",
       "      <td>70</td>\n",
       "      <td>95</td>\n",
       "      <td>100</td>\n",
       "      <td>90</td>\n",
       "    </tr>\n",
       "  </tbody>\n",
       "</table>\n",
       "</div>"
      ],
      "text/plain": [
       "   수학  영어   음악  체육\n",
       "b  80  89   95  90\n",
       "c  70  95  100  90"
      ]
     },
     "execution_count": 46,
     "metadata": {},
     "output_type": "execute_result"
    }
   ],
   "source": [
    "#row기준으로 자르기 (2개이상) #이러면 data frame으로 가져옴 \n",
    "label3 = df4.loc[['b','c']]\n",
    "label3"
   ]
  },
  {
   "cell_type": "code",
   "execution_count": 52,
   "id": "af8aa276",
   "metadata": {},
   "outputs": [
    {
     "data": {
      "text/html": [
       "<div>\n",
       "<style scoped>\n",
       "    .dataframe tbody tr th:only-of-type {\n",
       "        vertical-align: middle;\n",
       "    }\n",
       "\n",
       "    .dataframe tbody tr th {\n",
       "        vertical-align: top;\n",
       "    }\n",
       "\n",
       "    .dataframe thead th {\n",
       "        text-align: right;\n",
       "    }\n",
       "</style>\n",
       "<table border=\"1\" class=\"dataframe\">\n",
       "  <thead>\n",
       "    <tr style=\"text-align: right;\">\n",
       "      <th></th>\n",
       "      <th>수학</th>\n",
       "      <th>영어</th>\n",
       "    </tr>\n",
       "  </thead>\n",
       "  <tbody>\n",
       "    <tr>\n",
       "      <th>a</th>\n",
       "      <td>90</td>\n",
       "      <td>98</td>\n",
       "    </tr>\n",
       "    <tr>\n",
       "      <th>b</th>\n",
       "      <td>80</td>\n",
       "      <td>89</td>\n",
       "    </tr>\n",
       "    <tr>\n",
       "      <th>c</th>\n",
       "      <td>70</td>\n",
       "      <td>95</td>\n",
       "    </tr>\n",
       "  </tbody>\n",
       "</table>\n",
       "</div>"
      ],
      "text/plain": [
       "   수학  영어\n",
       "a  90  98\n",
       "b  80  89\n",
       "c  70  95"
      ]
     },
     "execution_count": 52,
     "metadata": {},
     "output_type": "execute_result"
    }
   ],
   "source": [
    "#열 기준으로 자르기 - dataframe으로 만들려면 \"[[]]\"\n",
    "df4[['수학']] \n",
    "#2개 이상으로 열 자르기\n",
    "df4[['수학','영어']]"
   ]
  },
  {
   "cell_type": "markdown",
   "id": "d7831b50",
   "metadata": {},
   "source": [
    "조건을 가지고 indexing"
   ]
  },
  {
   "cell_type": "code",
   "execution_count": 68,
   "id": "9cfc4051",
   "metadata": {},
   "outputs": [
    {
     "data": {
      "text/plain": [
       "a     True\n",
       "b     True\n",
       "c    False\n",
       "Name: 수학, dtype: bool"
      ]
     },
     "execution_count": 68,
     "metadata": {},
     "output_type": "execute_result"
    }
   ],
   "source": [
    "df4['수학'] > 70"
   ]
  },
  {
   "cell_type": "code",
   "execution_count": 1,
   "id": "6ae11183",
   "metadata": {},
   "outputs": [
    {
     "ename": "NameError",
     "evalue": "name 'df4' is not defined",
     "output_type": "error",
     "traceback": [
      "\u001b[0;31m---------------------------------------------------------------------------\u001b[0m",
      "\u001b[0;31mNameError\u001b[0m                                 Traceback (most recent call last)",
      "Input \u001b[0;32mIn [1]\u001b[0m, in \u001b[0;36m<cell line: 2>\u001b[0;34m()\u001b[0m\n\u001b[1;32m      1\u001b[0m \u001b[38;5;66;03m#df4 '수학'열 에서 70 넘은 row 모두 다 출력 \u001b[39;00m\n\u001b[0;32m----> 2\u001b[0m \u001b[43mdf4\u001b[49m\u001b[38;5;241m.\u001b[39mloc[df4[\u001b[38;5;124m'\u001b[39m\u001b[38;5;124m수학\u001b[39m\u001b[38;5;124m'\u001b[39m] \u001b[38;5;241m>\u001b[39m \u001b[38;5;241m70\u001b[39m,:]\n",
      "\u001b[0;31mNameError\u001b[0m: name 'df4' is not defined"
     ]
    }
   ],
   "source": [
    "#df4 '수학'열 에서 70 넘은 row 모두 다 출력 \n",
    "df4.loc[df4['수학'] > 70,:]"
   ]
  },
  {
   "cell_type": "code",
   "execution_count": 67,
   "id": "00b4fae5",
   "metadata": {},
   "outputs": [
    {
     "data": {
      "text/html": [
       "<div>\n",
       "<style scoped>\n",
       "    .dataframe tbody tr th:only-of-type {\n",
       "        vertical-align: middle;\n",
       "    }\n",
       "\n",
       "    .dataframe tbody tr th {\n",
       "        vertical-align: top;\n",
       "    }\n",
       "\n",
       "    .dataframe thead th {\n",
       "        text-align: right;\n",
       "    }\n",
       "</style>\n",
       "<table border=\"1\" class=\"dataframe\">\n",
       "  <thead>\n",
       "    <tr style=\"text-align: right;\">\n",
       "      <th></th>\n",
       "      <th>영어</th>\n",
       "      <th>음악</th>\n",
       "    </tr>\n",
       "  </thead>\n",
       "  <tbody>\n",
       "    <tr>\n",
       "      <th>a</th>\n",
       "      <td>98</td>\n",
       "      <td>85</td>\n",
       "    </tr>\n",
       "    <tr>\n",
       "      <th>b</th>\n",
       "      <td>89</td>\n",
       "      <td>95</td>\n",
       "    </tr>\n",
       "  </tbody>\n",
       "</table>\n",
       "</div>"
      ],
      "text/plain": [
       "   영어  음악\n",
       "a  98  85\n",
       "b  89  95"
      ]
     },
     "execution_count": 67,
     "metadata": {},
     "output_type": "execute_result"
    }
   ],
   "source": [
    "#df4 '수학'열 에서 80 넘은 row 모두 출력 & 열 출력할 것 설정모두 다 출력 \n",
    "df4.loc[df4['수학'] > 70, ['영어','음악']]"
   ]
  },
  {
   "cell_type": "code",
   "execution_count": 65,
   "id": "4ed31db0",
   "metadata": {},
   "outputs": [
    {
     "data": {
      "text/html": [
       "<div>\n",
       "<style scoped>\n",
       "    .dataframe tbody tr th:only-of-type {\n",
       "        vertical-align: middle;\n",
       "    }\n",
       "\n",
       "    .dataframe tbody tr th {\n",
       "        vertical-align: top;\n",
       "    }\n",
       "\n",
       "    .dataframe thead th {\n",
       "        text-align: right;\n",
       "    }\n",
       "</style>\n",
       "<table border=\"1\" class=\"dataframe\">\n",
       "  <thead>\n",
       "    <tr style=\"text-align: right;\">\n",
       "      <th></th>\n",
       "      <th>수학</th>\n",
       "      <th>영어</th>\n",
       "      <th>음악</th>\n",
       "      <th>체육</th>\n",
       "    </tr>\n",
       "  </thead>\n",
       "  <tbody>\n",
       "    <tr>\n",
       "      <th>b</th>\n",
       "      <td>80</td>\n",
       "      <td>89</td>\n",
       "      <td>95</td>\n",
       "      <td>90</td>\n",
       "    </tr>\n",
       "  </tbody>\n",
       "</table>\n",
       "</div>"
      ],
      "text/plain": [
       "   수학  영어  음악  체육\n",
       "b  80  89  95  90"
      ]
     },
     "execution_count": 65,
     "metadata": {},
     "output_type": "execute_result"
    }
   ],
   "source": [
    "#조건 두개\n",
    "df4.loc[(df4['수학']>70)&(df4['수학']<90),:]"
   ]
  },
  {
   "cell_type": "markdown",
   "id": "08d2d43d",
   "metadata": {},
   "source": [
    "# Transpose, info, describe, shape"
   ]
  },
  {
   "cell_type": "code",
   "execution_count": 53,
   "id": "5bdff0e1",
   "metadata": {},
   "outputs": [
    {
     "data": {
      "text/html": [
       "<div>\n",
       "<style scoped>\n",
       "    .dataframe tbody tr th:only-of-type {\n",
       "        vertical-align: middle;\n",
       "    }\n",
       "\n",
       "    .dataframe tbody tr th {\n",
       "        vertical-align: top;\n",
       "    }\n",
       "\n",
       "    .dataframe thead th {\n",
       "        text-align: right;\n",
       "    }\n",
       "</style>\n",
       "<table border=\"1\" class=\"dataframe\">\n",
       "  <thead>\n",
       "    <tr style=\"text-align: right;\">\n",
       "      <th></th>\n",
       "      <th>a</th>\n",
       "      <th>b</th>\n",
       "      <th>c</th>\n",
       "    </tr>\n",
       "  </thead>\n",
       "  <tbody>\n",
       "    <tr>\n",
       "      <th>수학</th>\n",
       "      <td>90</td>\n",
       "      <td>80</td>\n",
       "      <td>70</td>\n",
       "    </tr>\n",
       "    <tr>\n",
       "      <th>영어</th>\n",
       "      <td>98</td>\n",
       "      <td>89</td>\n",
       "      <td>95</td>\n",
       "    </tr>\n",
       "    <tr>\n",
       "      <th>음악</th>\n",
       "      <td>85</td>\n",
       "      <td>95</td>\n",
       "      <td>100</td>\n",
       "    </tr>\n",
       "    <tr>\n",
       "      <th>체육</th>\n",
       "      <td>100</td>\n",
       "      <td>90</td>\n",
       "      <td>90</td>\n",
       "    </tr>\n",
       "  </tbody>\n",
       "</table>\n",
       "</div>"
      ],
      "text/plain": [
       "      a   b    c\n",
       "수학   90  80   70\n",
       "영어   98  89   95\n",
       "음악   85  95  100\n",
       "체육  100  90   90"
      ]
     },
     "execution_count": 53,
     "metadata": {},
     "output_type": "execute_result"
    }
   ],
   "source": [
    "#transpose\n",
    "df4.transpose()"
   ]
  },
  {
   "cell_type": "code",
   "execution_count": 54,
   "id": "6de30625",
   "metadata": {},
   "outputs": [
    {
     "name": "stdout",
     "output_type": "stream",
     "text": [
      "<class 'pandas.core.frame.DataFrame'>\n",
      "Index: 3 entries, a to c\n",
      "Data columns (total 4 columns):\n",
      " #   Column  Non-Null Count  Dtype\n",
      "---  ------  --------------  -----\n",
      " 0   수학      3 non-null      int64\n",
      " 1   영어      3 non-null      int64\n",
      " 2   음악      3 non-null      int64\n",
      " 3   체육      3 non-null      int64\n",
      "dtypes: int64(4)\n",
      "memory usage: 228.0+ bytes\n"
     ]
    }
   ],
   "source": [
    "df4.info()"
   ]
  },
  {
   "cell_type": "code",
   "execution_count": 55,
   "id": "fa08986c",
   "metadata": {},
   "outputs": [
    {
     "data": {
      "text/html": [
       "<div>\n",
       "<style scoped>\n",
       "    .dataframe tbody tr th:only-of-type {\n",
       "        vertical-align: middle;\n",
       "    }\n",
       "\n",
       "    .dataframe tbody tr th {\n",
       "        vertical-align: top;\n",
       "    }\n",
       "\n",
       "    .dataframe thead th {\n",
       "        text-align: right;\n",
       "    }\n",
       "</style>\n",
       "<table border=\"1\" class=\"dataframe\">\n",
       "  <thead>\n",
       "    <tr style=\"text-align: right;\">\n",
       "      <th></th>\n",
       "      <th>수학</th>\n",
       "      <th>영어</th>\n",
       "      <th>음악</th>\n",
       "      <th>체육</th>\n",
       "    </tr>\n",
       "  </thead>\n",
       "  <tbody>\n",
       "    <tr>\n",
       "      <th>count</th>\n",
       "      <td>3.0</td>\n",
       "      <td>3.000000</td>\n",
       "      <td>3.000000</td>\n",
       "      <td>3.000000</td>\n",
       "    </tr>\n",
       "    <tr>\n",
       "      <th>mean</th>\n",
       "      <td>80.0</td>\n",
       "      <td>94.000000</td>\n",
       "      <td>93.333333</td>\n",
       "      <td>93.333333</td>\n",
       "    </tr>\n",
       "    <tr>\n",
       "      <th>std</th>\n",
       "      <td>10.0</td>\n",
       "      <td>4.582576</td>\n",
       "      <td>7.637626</td>\n",
       "      <td>5.773503</td>\n",
       "    </tr>\n",
       "    <tr>\n",
       "      <th>min</th>\n",
       "      <td>70.0</td>\n",
       "      <td>89.000000</td>\n",
       "      <td>85.000000</td>\n",
       "      <td>90.000000</td>\n",
       "    </tr>\n",
       "    <tr>\n",
       "      <th>25%</th>\n",
       "      <td>75.0</td>\n",
       "      <td>92.000000</td>\n",
       "      <td>90.000000</td>\n",
       "      <td>90.000000</td>\n",
       "    </tr>\n",
       "    <tr>\n",
       "      <th>50%</th>\n",
       "      <td>80.0</td>\n",
       "      <td>95.000000</td>\n",
       "      <td>95.000000</td>\n",
       "      <td>90.000000</td>\n",
       "    </tr>\n",
       "    <tr>\n",
       "      <th>75%</th>\n",
       "      <td>85.0</td>\n",
       "      <td>96.500000</td>\n",
       "      <td>97.500000</td>\n",
       "      <td>95.000000</td>\n",
       "    </tr>\n",
       "    <tr>\n",
       "      <th>max</th>\n",
       "      <td>90.0</td>\n",
       "      <td>98.000000</td>\n",
       "      <td>100.000000</td>\n",
       "      <td>100.000000</td>\n",
       "    </tr>\n",
       "  </tbody>\n",
       "</table>\n",
       "</div>"
      ],
      "text/plain": [
       "         수학         영어          음악          체육\n",
       "count   3.0   3.000000    3.000000    3.000000\n",
       "mean   80.0  94.000000   93.333333   93.333333\n",
       "std    10.0   4.582576    7.637626    5.773503\n",
       "min    70.0  89.000000   85.000000   90.000000\n",
       "25%    75.0  92.000000   90.000000   90.000000\n",
       "50%    80.0  95.000000   95.000000   90.000000\n",
       "75%    85.0  96.500000   97.500000   95.000000\n",
       "max    90.0  98.000000  100.000000  100.000000"
      ]
     },
     "execution_count": 55,
     "metadata": {},
     "output_type": "execute_result"
    }
   ],
   "source": [
    "df4.describe()"
   ]
  },
  {
   "cell_type": "code",
   "execution_count": 57,
   "id": "cc614fa9",
   "metadata": {},
   "outputs": [
    {
     "data": {
      "text/plain": [
       "(3, 4)"
      ]
     },
     "execution_count": 57,
     "metadata": {},
     "output_type": "execute_result"
    }
   ],
   "source": [
    "df4.shape"
   ]
  },
  {
   "cell_type": "markdown",
   "id": "878625af",
   "metadata": {},
   "source": [
    "# Missing Value - DROP NaN"
   ]
  },
  {
   "cell_type": "code",
   "execution_count": 73,
   "id": "5a920c67",
   "metadata": {},
   "outputs": [
    {
     "data": {
      "text/html": [
       "<div>\n",
       "<style scoped>\n",
       "    .dataframe tbody tr th:only-of-type {\n",
       "        vertical-align: middle;\n",
       "    }\n",
       "\n",
       "    .dataframe tbody tr th {\n",
       "        vertical-align: top;\n",
       "    }\n",
       "\n",
       "    .dataframe thead th {\n",
       "        text-align: right;\n",
       "    }\n",
       "</style>\n",
       "<table border=\"1\" class=\"dataframe\">\n",
       "  <thead>\n",
       "    <tr style=\"text-align: right;\">\n",
       "      <th></th>\n",
       "      <th>0</th>\n",
       "      <th>1</th>\n",
       "      <th>2</th>\n",
       "      <th>3</th>\n",
       "    </tr>\n",
       "  </thead>\n",
       "  <tbody>\n",
       "    <tr>\n",
       "      <th>0</th>\n",
       "      <td>1.475888</td>\n",
       "      <td>1.140824</td>\n",
       "      <td>1.491178</td>\n",
       "      <td>1.706712</td>\n",
       "    </tr>\n",
       "    <tr>\n",
       "      <th>1</th>\n",
       "      <td>0.783424</td>\n",
       "      <td>0.160955</td>\n",
       "      <td>1.341453</td>\n",
       "      <td>-2.857206</td>\n",
       "    </tr>\n",
       "    <tr>\n",
       "      <th>2</th>\n",
       "      <td>1.578823</td>\n",
       "      <td>-1.575676</td>\n",
       "      <td>-2.089627</td>\n",
       "      <td>-0.970954</td>\n",
       "    </tr>\n",
       "    <tr>\n",
       "      <th>3</th>\n",
       "      <td>-1.035206</td>\n",
       "      <td>-2.449229</td>\n",
       "      <td>2.042044</td>\n",
       "      <td>0.172786</td>\n",
       "    </tr>\n",
       "    <tr>\n",
       "      <th>4</th>\n",
       "      <td>-1.074340</td>\n",
       "      <td>-0.079223</td>\n",
       "      <td>0.870535</td>\n",
       "      <td>1.272221</td>\n",
       "    </tr>\n",
       "    <tr>\n",
       "      <th>5</th>\n",
       "      <td>-0.287003</td>\n",
       "      <td>0.110617</td>\n",
       "      <td>1.115452</td>\n",
       "      <td>-0.611716</td>\n",
       "    </tr>\n",
       "  </tbody>\n",
       "</table>\n",
       "</div>"
      ],
      "text/plain": [
       "          0         1         2         3\n",
       "0  1.475888  1.140824  1.491178  1.706712\n",
       "1  0.783424  0.160955  1.341453 -2.857206\n",
       "2  1.578823 -1.575676 -2.089627 -0.970954\n",
       "3 -1.035206 -2.449229  2.042044  0.172786\n",
       "4 -1.074340 -0.079223  0.870535  1.272221\n",
       "5 -0.287003  0.110617  1.115452 -0.611716"
      ]
     },
     "execution_count": 73,
     "metadata": {},
     "output_type": "execute_result"
    }
   ],
   "source": [
    "# Random 으로 만들기\n",
    "df = pd.DataFrame(np.random.randn(6,4))\n",
    "df"
   ]
  },
  {
   "cell_type": "code",
   "execution_count": 75,
   "id": "d9341a43",
   "metadata": {},
   "outputs": [
    {
     "data": {
      "text/html": [
       "<div>\n",
       "<style scoped>\n",
       "    .dataframe tbody tr th:only-of-type {\n",
       "        vertical-align: middle;\n",
       "    }\n",
       "\n",
       "    .dataframe tbody tr th {\n",
       "        vertical-align: top;\n",
       "    }\n",
       "\n",
       "    .dataframe thead th {\n",
       "        text-align: right;\n",
       "    }\n",
       "</style>\n",
       "<table border=\"1\" class=\"dataframe\">\n",
       "  <thead>\n",
       "    <tr style=\"text-align: right;\">\n",
       "      <th></th>\n",
       "      <th>a</th>\n",
       "      <th>b</th>\n",
       "      <th>c</th>\n",
       "      <th>d</th>\n",
       "    </tr>\n",
       "  </thead>\n",
       "  <tbody>\n",
       "    <tr>\n",
       "      <th>1</th>\n",
       "      <td>1.475888</td>\n",
       "      <td>1.140824</td>\n",
       "      <td>1.491178</td>\n",
       "      <td>1.706712</td>\n",
       "    </tr>\n",
       "    <tr>\n",
       "      <th>2</th>\n",
       "      <td>0.783424</td>\n",
       "      <td>0.160955</td>\n",
       "      <td>1.341453</td>\n",
       "      <td>-2.857206</td>\n",
       "    </tr>\n",
       "    <tr>\n",
       "      <th>3</th>\n",
       "      <td>1.578823</td>\n",
       "      <td>-1.575676</td>\n",
       "      <td>-2.089627</td>\n",
       "      <td>-0.970954</td>\n",
       "    </tr>\n",
       "    <tr>\n",
       "      <th>4</th>\n",
       "      <td>-1.035206</td>\n",
       "      <td>-2.449229</td>\n",
       "      <td>2.042044</td>\n",
       "      <td>0.172786</td>\n",
       "    </tr>\n",
       "    <tr>\n",
       "      <th>5</th>\n",
       "      <td>-1.074340</td>\n",
       "      <td>-0.079223</td>\n",
       "      <td>0.870535</td>\n",
       "      <td>1.272221</td>\n",
       "    </tr>\n",
       "    <tr>\n",
       "      <th>6</th>\n",
       "      <td>-0.287003</td>\n",
       "      <td>0.110617</td>\n",
       "      <td>1.115452</td>\n",
       "      <td>-0.611716</td>\n",
       "    </tr>\n",
       "  </tbody>\n",
       "</table>\n",
       "</div>"
      ],
      "text/plain": [
       "          a         b         c         d\n",
       "1  1.475888  1.140824  1.491178  1.706712\n",
       "2  0.783424  0.160955  1.341453 -2.857206\n",
       "3  1.578823 -1.575676 -2.089627 -0.970954\n",
       "4 -1.035206 -2.449229  2.042044  0.172786\n",
       "5 -1.074340 -0.079223  0.870535  1.272221\n",
       "6 -0.287003  0.110617  1.115452 -0.611716"
      ]
     },
     "execution_count": 75,
     "metadata": {},
     "output_type": "execute_result"
    }
   ],
   "source": [
    "df.columns = ['a','b','c','d']\n",
    "df.index = ['1','2','3','4','5','6']\n",
    "df"
   ]
  },
  {
   "cell_type": "code",
   "execution_count": 91,
   "id": "d4134403",
   "metadata": {},
   "outputs": [
    {
     "data": {
      "text/html": [
       "<div>\n",
       "<style scoped>\n",
       "    .dataframe tbody tr th:only-of-type {\n",
       "        vertical-align: middle;\n",
       "    }\n",
       "\n",
       "    .dataframe tbody tr th {\n",
       "        vertical-align: top;\n",
       "    }\n",
       "\n",
       "    .dataframe thead th {\n",
       "        text-align: right;\n",
       "    }\n",
       "</style>\n",
       "<table border=\"1\" class=\"dataframe\">\n",
       "  <thead>\n",
       "    <tr style=\"text-align: right;\">\n",
       "      <th></th>\n",
       "      <th>a</th>\n",
       "      <th>b</th>\n",
       "      <th>c</th>\n",
       "      <th>d</th>\n",
       "      <th>e</th>\n",
       "      <th>f</th>\n",
       "    </tr>\n",
       "  </thead>\n",
       "  <tbody>\n",
       "    <tr>\n",
       "      <th>1</th>\n",
       "      <td>1.475888</td>\n",
       "      <td>1.140824</td>\n",
       "      <td>1.491178</td>\n",
       "      <td>1.706712</td>\n",
       "      <td>NaN</td>\n",
       "      <td>-0.055893</td>\n",
       "    </tr>\n",
       "    <tr>\n",
       "      <th>2</th>\n",
       "      <td>0.783424</td>\n",
       "      <td>0.160955</td>\n",
       "      <td>1.341453</td>\n",
       "      <td>-2.857206</td>\n",
       "      <td>NaN</td>\n",
       "      <td>0.535557</td>\n",
       "    </tr>\n",
       "    <tr>\n",
       "      <th>3</th>\n",
       "      <td>1.578823</td>\n",
       "      <td>-1.575676</td>\n",
       "      <td>-2.089627</td>\n",
       "      <td>-0.970954</td>\n",
       "      <td>NaN</td>\n",
       "      <td>-0.499262</td>\n",
       "    </tr>\n",
       "    <tr>\n",
       "      <th>4</th>\n",
       "      <td>-1.035206</td>\n",
       "      <td>-2.449229</td>\n",
       "      <td>2.042044</td>\n",
       "      <td>0.172786</td>\n",
       "      <td>1.0</td>\n",
       "      <td>-0.435033</td>\n",
       "    </tr>\n",
       "    <tr>\n",
       "      <th>5</th>\n",
       "      <td>-1.074340</td>\n",
       "      <td>-0.079223</td>\n",
       "      <td>0.870535</td>\n",
       "      <td>1.272221</td>\n",
       "      <td>1.0</td>\n",
       "      <td>0.410312</td>\n",
       "    </tr>\n",
       "    <tr>\n",
       "      <th>6</th>\n",
       "      <td>-0.287003</td>\n",
       "      <td>0.110617</td>\n",
       "      <td>1.115452</td>\n",
       "      <td>-0.611716</td>\n",
       "      <td>1.0</td>\n",
       "      <td>-0.335175</td>\n",
       "    </tr>\n",
       "  </tbody>\n",
       "</table>\n",
       "</div>"
      ],
      "text/plain": [
       "          a         b         c         d    e         f\n",
       "1  1.475888  1.140824  1.491178  1.706712  NaN -0.055893\n",
       "2  0.783424  0.160955  1.341453 -2.857206  NaN  0.535557\n",
       "3  1.578823 -1.575676 -2.089627 -0.970954  NaN -0.499262\n",
       "4 -1.035206 -2.449229  2.042044  0.172786  1.0 -0.435033\n",
       "5 -1.074340 -0.079223  0.870535  1.272221  1.0  0.410312\n",
       "6 -0.287003  0.110617  1.115452 -0.611716  1.0 -0.335175"
      ]
     },
     "execution_count": 91,
     "metadata": {},
     "output_type": "execute_result"
    }
   ],
   "source": [
    "#임의로 NaN을 넣어버리겠음, e column에다가 넣음\n",
    "df['e'] = [np.nan, np.nan, np.nan, 1, 1, 1]\n",
    "\n",
    "#임의로 random사용해서 f열에 넣어버리겠음\n",
    "df['f'] = np.random.randn(6,1)\n",
    "df"
   ]
  },
  {
   "cell_type": "code",
   "execution_count": 80,
   "id": "84ac8d59",
   "metadata": {},
   "outputs": [
    {
     "data": {
      "text/html": [
       "<div>\n",
       "<style scoped>\n",
       "    .dataframe tbody tr th:only-of-type {\n",
       "        vertical-align: middle;\n",
       "    }\n",
       "\n",
       "    .dataframe tbody tr th {\n",
       "        vertical-align: top;\n",
       "    }\n",
       "\n",
       "    .dataframe thead th {\n",
       "        text-align: right;\n",
       "    }\n",
       "</style>\n",
       "<table border=\"1\" class=\"dataframe\">\n",
       "  <thead>\n",
       "    <tr style=\"text-align: right;\">\n",
       "      <th></th>\n",
       "      <th>a</th>\n",
       "      <th>b</th>\n",
       "      <th>c</th>\n",
       "      <th>d</th>\n",
       "      <th>e</th>\n",
       "    </tr>\n",
       "  </thead>\n",
       "  <tbody>\n",
       "    <tr>\n",
       "      <th>4</th>\n",
       "      <td>-1.035206</td>\n",
       "      <td>-2.449229</td>\n",
       "      <td>2.042044</td>\n",
       "      <td>0.172786</td>\n",
       "      <td>1.0</td>\n",
       "    </tr>\n",
       "    <tr>\n",
       "      <th>5</th>\n",
       "      <td>-1.074340</td>\n",
       "      <td>-0.079223</td>\n",
       "      <td>0.870535</td>\n",
       "      <td>1.272221</td>\n",
       "      <td>1.0</td>\n",
       "    </tr>\n",
       "    <tr>\n",
       "      <th>6</th>\n",
       "      <td>-0.287003</td>\n",
       "      <td>0.110617</td>\n",
       "      <td>1.115452</td>\n",
       "      <td>-0.611716</td>\n",
       "      <td>1.0</td>\n",
       "    </tr>\n",
       "  </tbody>\n",
       "</table>\n",
       "</div>"
      ],
      "text/plain": [
       "          a         b         c         d    e\n",
       "4 -1.035206 -2.449229  2.042044  0.172786  1.0\n",
       "5 -1.074340 -0.079223  0.870535  1.272221  1.0\n",
       "6 -0.287003  0.110617  1.115452 -0.611716  1.0"
      ]
     },
     "execution_count": 80,
     "metadata": {},
     "output_type": "execute_result"
    }
   ],
   "source": [
    "#NaN 없애기\n",
    "df.dropna(how = 'any')"
   ]
  },
  {
   "cell_type": "code",
   "execution_count": 81,
   "id": "1788221e",
   "metadata": {},
   "outputs": [
    {
     "data": {
      "text/html": [
       "<div>\n",
       "<style scoped>\n",
       "    .dataframe tbody tr th:only-of-type {\n",
       "        vertical-align: middle;\n",
       "    }\n",
       "\n",
       "    .dataframe tbody tr th {\n",
       "        vertical-align: top;\n",
       "    }\n",
       "\n",
       "    .dataframe thead th {\n",
       "        text-align: right;\n",
       "    }\n",
       "</style>\n",
       "<table border=\"1\" class=\"dataframe\">\n",
       "  <thead>\n",
       "    <tr style=\"text-align: right;\">\n",
       "      <th></th>\n",
       "      <th>a</th>\n",
       "      <th>b</th>\n",
       "      <th>c</th>\n",
       "      <th>d</th>\n",
       "      <th>e</th>\n",
       "    </tr>\n",
       "  </thead>\n",
       "  <tbody>\n",
       "    <tr>\n",
       "      <th>1</th>\n",
       "      <td>1.475888</td>\n",
       "      <td>1.140824</td>\n",
       "      <td>1.491178</td>\n",
       "      <td>1.706712</td>\n",
       "      <td>NaN</td>\n",
       "    </tr>\n",
       "    <tr>\n",
       "      <th>2</th>\n",
       "      <td>0.783424</td>\n",
       "      <td>0.160955</td>\n",
       "      <td>1.341453</td>\n",
       "      <td>-2.857206</td>\n",
       "      <td>NaN</td>\n",
       "    </tr>\n",
       "    <tr>\n",
       "      <th>3</th>\n",
       "      <td>1.578823</td>\n",
       "      <td>-1.575676</td>\n",
       "      <td>-2.089627</td>\n",
       "      <td>-0.970954</td>\n",
       "      <td>NaN</td>\n",
       "    </tr>\n",
       "    <tr>\n",
       "      <th>4</th>\n",
       "      <td>-1.035206</td>\n",
       "      <td>-2.449229</td>\n",
       "      <td>2.042044</td>\n",
       "      <td>0.172786</td>\n",
       "      <td>1.0</td>\n",
       "    </tr>\n",
       "    <tr>\n",
       "      <th>5</th>\n",
       "      <td>-1.074340</td>\n",
       "      <td>-0.079223</td>\n",
       "      <td>0.870535</td>\n",
       "      <td>1.272221</td>\n",
       "      <td>1.0</td>\n",
       "    </tr>\n",
       "    <tr>\n",
       "      <th>6</th>\n",
       "      <td>-0.287003</td>\n",
       "      <td>0.110617</td>\n",
       "      <td>1.115452</td>\n",
       "      <td>-0.611716</td>\n",
       "      <td>1.0</td>\n",
       "    </tr>\n",
       "  </tbody>\n",
       "</table>\n",
       "</div>"
      ],
      "text/plain": [
       "          a         b         c         d    e\n",
       "1  1.475888  1.140824  1.491178  1.706712  NaN\n",
       "2  0.783424  0.160955  1.341453 -2.857206  NaN\n",
       "3  1.578823 -1.575676 -2.089627 -0.970954  NaN\n",
       "4 -1.035206 -2.449229  2.042044  0.172786  1.0\n",
       "5 -1.074340 -0.079223  0.870535  1.272221  1.0\n",
       "6 -0.287003  0.110617  1.115452 -0.611716  1.0"
      ]
     },
     "execution_count": 81,
     "metadata": {},
     "output_type": "execute_result"
    }
   ],
   "source": [
    "#열 모든값이 null인경우에 drop\n",
    "df.dropna(how = 'all')"
   ]
  },
  {
   "cell_type": "code",
   "execution_count": 82,
   "id": "86db40d1",
   "metadata": {},
   "outputs": [
    {
     "data": {
      "text/html": [
       "<div>\n",
       "<style scoped>\n",
       "    .dataframe tbody tr th:only-of-type {\n",
       "        vertical-align: middle;\n",
       "    }\n",
       "\n",
       "    .dataframe tbody tr th {\n",
       "        vertical-align: top;\n",
       "    }\n",
       "\n",
       "    .dataframe thead th {\n",
       "        text-align: right;\n",
       "    }\n",
       "</style>\n",
       "<table border=\"1\" class=\"dataframe\">\n",
       "  <thead>\n",
       "    <tr style=\"text-align: right;\">\n",
       "      <th></th>\n",
       "      <th>a</th>\n",
       "      <th>b</th>\n",
       "      <th>c</th>\n",
       "      <th>d</th>\n",
       "      <th>e</th>\n",
       "    </tr>\n",
       "  </thead>\n",
       "  <tbody>\n",
       "    <tr>\n",
       "      <th>4</th>\n",
       "      <td>-1.035206</td>\n",
       "      <td>-2.449229</td>\n",
       "      <td>2.042044</td>\n",
       "      <td>0.172786</td>\n",
       "      <td>1.0</td>\n",
       "    </tr>\n",
       "    <tr>\n",
       "      <th>5</th>\n",
       "      <td>-1.074340</td>\n",
       "      <td>-0.079223</td>\n",
       "      <td>0.870535</td>\n",
       "      <td>1.272221</td>\n",
       "      <td>1.0</td>\n",
       "    </tr>\n",
       "    <tr>\n",
       "      <th>6</th>\n",
       "      <td>-0.287003</td>\n",
       "      <td>0.110617</td>\n",
       "      <td>1.115452</td>\n",
       "      <td>-0.611716</td>\n",
       "      <td>1.0</td>\n",
       "    </tr>\n",
       "  </tbody>\n",
       "</table>\n",
       "</div>"
      ],
      "text/plain": [
       "          a         b         c         d    e\n",
       "4 -1.035206 -2.449229  2.042044  0.172786  1.0\n",
       "5 -1.074340 -0.079223  0.870535  1.272221  1.0\n",
       "6 -0.287003  0.110617  1.115452 -0.611716  1.0"
      ]
     },
     "execution_count": 82,
     "metadata": {},
     "output_type": "execute_result"
    }
   ],
   "source": [
    "df.dropna(subset = ['e'], axis = 0)"
   ]
  },
  {
   "cell_type": "markdown",
   "id": "296c65fa",
   "metadata": {},
   "source": [
    "# Fill & Replace "
   ]
  },
  {
   "cell_type": "code",
   "execution_count": 83,
   "id": "bc568fe6",
   "metadata": {
    "scrolled": true
   },
   "outputs": [
    {
     "data": {
      "text/html": [
       "<div>\n",
       "<style scoped>\n",
       "    .dataframe tbody tr th:only-of-type {\n",
       "        vertical-align: middle;\n",
       "    }\n",
       "\n",
       "    .dataframe tbody tr th {\n",
       "        vertical-align: top;\n",
       "    }\n",
       "\n",
       "    .dataframe thead th {\n",
       "        text-align: right;\n",
       "    }\n",
       "</style>\n",
       "<table border=\"1\" class=\"dataframe\">\n",
       "  <thead>\n",
       "    <tr style=\"text-align: right;\">\n",
       "      <th></th>\n",
       "      <th>a</th>\n",
       "      <th>b</th>\n",
       "      <th>c</th>\n",
       "      <th>d</th>\n",
       "      <th>e</th>\n",
       "    </tr>\n",
       "  </thead>\n",
       "  <tbody>\n",
       "    <tr>\n",
       "      <th>1</th>\n",
       "      <td>1.475888</td>\n",
       "      <td>1.140824</td>\n",
       "      <td>1.491178</td>\n",
       "      <td>1.706712</td>\n",
       "      <td>0.5</td>\n",
       "    </tr>\n",
       "    <tr>\n",
       "      <th>2</th>\n",
       "      <td>0.783424</td>\n",
       "      <td>0.160955</td>\n",
       "      <td>1.341453</td>\n",
       "      <td>-2.857206</td>\n",
       "      <td>0.5</td>\n",
       "    </tr>\n",
       "    <tr>\n",
       "      <th>3</th>\n",
       "      <td>1.578823</td>\n",
       "      <td>-1.575676</td>\n",
       "      <td>-2.089627</td>\n",
       "      <td>-0.970954</td>\n",
       "      <td>0.5</td>\n",
       "    </tr>\n",
       "    <tr>\n",
       "      <th>4</th>\n",
       "      <td>-1.035206</td>\n",
       "      <td>-2.449229</td>\n",
       "      <td>2.042044</td>\n",
       "      <td>0.172786</td>\n",
       "      <td>1.0</td>\n",
       "    </tr>\n",
       "    <tr>\n",
       "      <th>5</th>\n",
       "      <td>-1.074340</td>\n",
       "      <td>-0.079223</td>\n",
       "      <td>0.870535</td>\n",
       "      <td>1.272221</td>\n",
       "      <td>1.0</td>\n",
       "    </tr>\n",
       "    <tr>\n",
       "      <th>6</th>\n",
       "      <td>-0.287003</td>\n",
       "      <td>0.110617</td>\n",
       "      <td>1.115452</td>\n",
       "      <td>-0.611716</td>\n",
       "      <td>1.0</td>\n",
       "    </tr>\n",
       "  </tbody>\n",
       "</table>\n",
       "</div>"
      ],
      "text/plain": [
       "          a         b         c         d    e\n",
       "1  1.475888  1.140824  1.491178  1.706712  0.5\n",
       "2  0.783424  0.160955  1.341453 -2.857206  0.5\n",
       "3  1.578823 -1.575676 -2.089627 -0.970954  0.5\n",
       "4 -1.035206 -2.449229  2.042044  0.172786  1.0\n",
       "5 -1.074340 -0.079223  0.870535  1.272221  1.0\n",
       "6 -0.287003  0.110617  1.115452 -0.611716  1.0"
      ]
     },
     "execution_count": 83,
     "metadata": {},
     "output_type": "execute_result"
    }
   ],
   "source": [
    "#null에 fill\n",
    "df.fillna(value=0.5)"
   ]
  },
  {
   "cell_type": "code",
   "execution_count": 1,
   "id": "049ae680",
   "metadata": {},
   "outputs": [
    {
     "ename": "NameError",
     "evalue": "name 'df' is not defined",
     "output_type": "error",
     "traceback": [
      "\u001b[0;31m---------------------------------------------------------------------------\u001b[0m",
      "\u001b[0;31mNameError\u001b[0m                                 Traceback (most recent call last)",
      "Input \u001b[0;32mIn [1]\u001b[0m, in \u001b[0;36m<cell line: 1>\u001b[0;34m()\u001b[0m\n\u001b[0;32m----> 1\u001b[0m \u001b[43mdf\u001b[49m\u001b[38;5;241m.\u001b[39misnull()\n\u001b[1;32m      2\u001b[0m \u001b[38;5;28mprint\u001b[39m(df\u001b[38;5;241m.\u001b[39misnull()\u001b[38;5;241m.\u001b[39msum())\n",
      "\u001b[0;31mNameError\u001b[0m: name 'df' is not defined"
     ]
    }
   ],
   "source": [
    "df.isnull()\n",
    "print(df.isnull().sum())"
   ]
  },
  {
   "cell_type": "code",
   "execution_count": 85,
   "id": "4717d604",
   "metadata": {},
   "outputs": [
    {
     "data": {
      "text/html": [
       "<div>\n",
       "<style scoped>\n",
       "    .dataframe tbody tr th:only-of-type {\n",
       "        vertical-align: middle;\n",
       "    }\n",
       "\n",
       "    .dataframe tbody tr th {\n",
       "        vertical-align: top;\n",
       "    }\n",
       "\n",
       "    .dataframe thead th {\n",
       "        text-align: right;\n",
       "    }\n",
       "</style>\n",
       "<table border=\"1\" class=\"dataframe\">\n",
       "  <thead>\n",
       "    <tr style=\"text-align: right;\">\n",
       "      <th></th>\n",
       "      <th>a</th>\n",
       "      <th>b</th>\n",
       "      <th>c</th>\n",
       "      <th>d</th>\n",
       "      <th>e</th>\n",
       "    </tr>\n",
       "  </thead>\n",
       "  <tbody>\n",
       "    <tr>\n",
       "      <th>1</th>\n",
       "      <td>1.475888</td>\n",
       "      <td>1.140824</td>\n",
       "      <td>1.491178</td>\n",
       "      <td>1.706712</td>\n",
       "      <td>24.0</td>\n",
       "    </tr>\n",
       "    <tr>\n",
       "      <th>2</th>\n",
       "      <td>0.783424</td>\n",
       "      <td>0.160955</td>\n",
       "      <td>1.341453</td>\n",
       "      <td>-2.857206</td>\n",
       "      <td>24.0</td>\n",
       "    </tr>\n",
       "    <tr>\n",
       "      <th>3</th>\n",
       "      <td>1.578823</td>\n",
       "      <td>-1.575676</td>\n",
       "      <td>-2.089627</td>\n",
       "      <td>-0.970954</td>\n",
       "      <td>24.0</td>\n",
       "    </tr>\n",
       "    <tr>\n",
       "      <th>4</th>\n",
       "      <td>-1.035206</td>\n",
       "      <td>-2.449229</td>\n",
       "      <td>2.042044</td>\n",
       "      <td>0.172786</td>\n",
       "      <td>1.0</td>\n",
       "    </tr>\n",
       "    <tr>\n",
       "      <th>5</th>\n",
       "      <td>-1.074340</td>\n",
       "      <td>-0.079223</td>\n",
       "      <td>0.870535</td>\n",
       "      <td>1.272221</td>\n",
       "      <td>1.0</td>\n",
       "    </tr>\n",
       "    <tr>\n",
       "      <th>6</th>\n",
       "      <td>-0.287003</td>\n",
       "      <td>0.110617</td>\n",
       "      <td>1.115452</td>\n",
       "      <td>-0.611716</td>\n",
       "      <td>1.0</td>\n",
       "    </tr>\n",
       "  </tbody>\n",
       "</table>\n",
       "</div>"
      ],
      "text/plain": [
       "          a         b         c         d     e\n",
       "1  1.475888  1.140824  1.491178  1.706712  24.0\n",
       "2  0.783424  0.160955  1.341453 -2.857206  24.0\n",
       "3  1.578823 -1.575676 -2.089627 -0.970954  24.0\n",
       "4 -1.035206 -2.449229  2.042044  0.172786   1.0\n",
       "5 -1.074340 -0.079223  0.870535  1.272221   1.0\n",
       "6 -0.287003  0.110617  1.115452 -0.611716   1.0"
      ]
     },
     "execution_count": 85,
     "metadata": {},
     "output_type": "execute_result"
    }
   ],
   "source": [
    "#Replace null with 24\n",
    "df.replace(np.nan, 24)"
   ]
  },
  {
   "cell_type": "markdown",
   "id": "222c18e4",
   "metadata": {},
   "source": [
    "# Correlation구하기"
   ]
  },
  {
   "cell_type": "code",
   "execution_count": 104,
   "id": "b787ce4f",
   "metadata": {},
   "outputs": [
    {
     "data": {
      "text/plain": [
       "-0.5165647601642085"
      ]
     },
     "execution_count": 104,
     "metadata": {},
     "output_type": "execute_result"
    }
   ],
   "source": [
    "df['a'].corr(df['c'])"
   ]
  },
  {
   "cell_type": "markdown",
   "id": "0bdd1fb4",
   "metadata": {},
   "source": [
    "# 유익한 꼭 알았으면 하는것"
   ]
  },
  {
   "cell_type": "code",
   "execution_count": 6,
   "id": "702067dd",
   "metadata": {},
   "outputs": [
    {
     "data": {
      "text/html": [
       "<div>\n",
       "<style scoped>\n",
       "    .dataframe tbody tr th:only-of-type {\n",
       "        vertical-align: middle;\n",
       "    }\n",
       "\n",
       "    .dataframe tbody tr th {\n",
       "        vertical-align: top;\n",
       "    }\n",
       "\n",
       "    .dataframe thead th {\n",
       "        text-align: right;\n",
       "    }\n",
       "</style>\n",
       "<table border=\"1\" class=\"dataframe\">\n",
       "  <thead>\n",
       "    <tr style=\"text-align: right;\">\n",
       "      <th></th>\n",
       "      <th>수학</th>\n",
       "      <th>영어</th>\n",
       "      <th>음악</th>\n",
       "      <th>체육</th>\n",
       "    </tr>\n",
       "  </thead>\n",
       "  <tbody>\n",
       "    <tr>\n",
       "      <th>a</th>\n",
       "      <td>90</td>\n",
       "      <td>98</td>\n",
       "      <td>85</td>\n",
       "      <td>100</td>\n",
       "    </tr>\n",
       "    <tr>\n",
       "      <th>b</th>\n",
       "      <td>80</td>\n",
       "      <td>89</td>\n",
       "      <td>95</td>\n",
       "      <td>90</td>\n",
       "    </tr>\n",
       "    <tr>\n",
       "      <th>c</th>\n",
       "      <td>70</td>\n",
       "      <td>95</td>\n",
       "      <td>100</td>\n",
       "      <td>90</td>\n",
       "    </tr>\n",
       "  </tbody>\n",
       "</table>\n",
       "</div>"
      ],
      "text/plain": [
       "   수학  영어   음악   체육\n",
       "a  90  98   85  100\n",
       "b  80  89   95   90\n",
       "c  70  95  100   90"
      ]
     },
     "execution_count": 6,
     "metadata": {},
     "output_type": "execute_result"
    }
   ],
   "source": [
    "df4"
   ]
  },
  {
   "cell_type": "code",
   "execution_count": 9,
   "id": "3c013662",
   "metadata": {},
   "outputs": [
    {
     "data": {
      "text/plain": [
       "수학\n",
       "70    1\n",
       "80    1\n",
       "90    1\n",
       "Name: 영어, dtype: int64"
      ]
     },
     "execution_count": 9,
     "metadata": {},
     "output_type": "execute_result"
    }
   ],
   "source": [
    "df4.groupby(['수학'])['영어'].count()"
   ]
  },
  {
   "cell_type": "code",
   "execution_count": null,
   "id": "39fd2acc",
   "metadata": {},
   "outputs": [],
   "source": [
    "#apply\n",
    "def profit(s):\n",
    "    return s + s * 0.10 # increase of 10%\n",
    "data['new_price'] =data['price'].apply(profit)"
   ]
  },
  {
   "cell_type": "code",
   "execution_count": 11,
   "id": "a0276857",
   "metadata": {},
   "outputs": [
    {
     "data": {
      "text/plain": [
       "(5, 10)"
      ]
     },
     "execution_count": 11,
     "metadata": {},
     "output_type": "execute_result"
    }
   ],
   "source": [
    "df = pd.read_csv('books.csv')\n",
    "#같이 적용\n",
    "df[(df['num_pages']>500) & (df['year']>2010)].shape"
   ]
  },
  {
   "cell_type": "code",
   "execution_count": 12,
   "id": "01fd6786",
   "metadata": {},
   "outputs": [
    {
     "data": {
      "text/html": [
       "<div>\n",
       "<style scoped>\n",
       "    .dataframe tbody tr th:only-of-type {\n",
       "        vertical-align: middle;\n",
       "    }\n",
       "\n",
       "    .dataframe tbody tr th {\n",
       "        vertical-align: top;\n",
       "    }\n",
       "\n",
       "    .dataframe thead th {\n",
       "        text-align: right;\n",
       "    }\n",
       "</style>\n",
       "<table border=\"1\" class=\"dataframe\">\n",
       "  <thead>\n",
       "    <tr style=\"text-align: right;\">\n",
       "      <th></th>\n",
       "      <th>title</th>\n",
       "      <th>author</th>\n",
       "      <th>average_rating</th>\n",
       "      <th>isbn13</th>\n",
       "      <th>language_code</th>\n",
       "      <th>num_pages</th>\n",
       "      <th>ratings_count</th>\n",
       "      <th>text_reviews_count</th>\n",
       "      <th>publisher</th>\n",
       "      <th>year</th>\n",
       "    </tr>\n",
       "  </thead>\n",
       "  <tbody>\n",
       "    <tr>\n",
       "      <th>0</th>\n",
       "      <td>The Hunchback of Notre-Dame</td>\n",
       "      <td>Victor Hugo</td>\n",
       "      <td>4.00</td>\n",
       "      <td>9780345472427</td>\n",
       "      <td>en-US</td>\n",
       "      <td>534.0</td>\n",
       "      <td>140</td>\n",
       "      <td>22</td>\n",
       "      <td>Modern Library</td>\n",
       "      <td>2004</td>\n",
       "    </tr>\n",
       "    <tr>\n",
       "      <th>1</th>\n",
       "      <td>La Cucina Di Lidia: Recipes and Memories from ...</td>\n",
       "      <td>Lidia Matticchio Bastianich</td>\n",
       "      <td>4.14</td>\n",
       "      <td>9780767914222</td>\n",
       "      <td>en-GB</td>\n",
       "      <td>288.0</td>\n",
       "      <td>48</td>\n",
       "      <td>3</td>\n",
       "      <td>Clarkson Potter</td>\n",
       "      <td>2003</td>\n",
       "    </tr>\n",
       "    <tr>\n",
       "      <th>2</th>\n",
       "      <td>Breach of Promise</td>\n",
       "      <td>James Scott Bell</td>\n",
       "      <td>4.00</td>\n",
       "      <td>9780310243878</td>\n",
       "      <td>eng</td>\n",
       "      <td>345.0</td>\n",
       "      <td>368</td>\n",
       "      <td>36</td>\n",
       "      <td>Zondervan</td>\n",
       "      <td>2004</td>\n",
       "    </tr>\n",
       "    <tr>\n",
       "      <th>3</th>\n",
       "      <td>Brief Interviews with Hideous Men</td>\n",
       "      <td>David Foster Wallace</td>\n",
       "      <td>3.86</td>\n",
       "      <td>9780349111889</td>\n",
       "      <td>eng</td>\n",
       "      <td>273.0</td>\n",
       "      <td>18335</td>\n",
       "      <td>1155</td>\n",
       "      <td>Abacus</td>\n",
       "      <td>2000</td>\n",
       "    </tr>\n",
       "    <tr>\n",
       "      <th>4</th>\n",
       "      <td>The Killing Dance (Anita Blake  Vampire Hunter...</td>\n",
       "      <td>Laurell K. Hamilton</td>\n",
       "      <td>4.13</td>\n",
       "      <td>9780425209066</td>\n",
       "      <td>en-US</td>\n",
       "      <td>368.0</td>\n",
       "      <td>59524</td>\n",
       "      <td>946</td>\n",
       "      <td>Berkley Hardcover</td>\n",
       "      <td>2006</td>\n",
       "    </tr>\n",
       "  </tbody>\n",
       "</table>\n",
       "</div>"
      ],
      "text/plain": [
       "                                               title  \\\n",
       "0                        The Hunchback of Notre-Dame   \n",
       "1  La Cucina Di Lidia: Recipes and Memories from ...   \n",
       "2                                  Breach of Promise   \n",
       "3                  Brief Interviews with Hideous Men   \n",
       "4  The Killing Dance (Anita Blake  Vampire Hunter...   \n",
       "\n",
       "                        author  average_rating         isbn13 language_code  \\\n",
       "0                  Victor Hugo            4.00  9780345472427         en-US   \n",
       "1  Lidia Matticchio Bastianich            4.14  9780767914222         en-GB   \n",
       "2             James Scott Bell            4.00  9780310243878           eng   \n",
       "3         David Foster Wallace            3.86  9780349111889           eng   \n",
       "4          Laurell K. Hamilton            4.13  9780425209066         en-US   \n",
       "\n",
       "   num_pages  ratings_count  text_reviews_count          publisher  year  \n",
       "0      534.0            140                  22     Modern Library  2004  \n",
       "1      288.0             48                   3    Clarkson Potter  2003  \n",
       "2      345.0            368                  36          Zondervan  2004  \n",
       "3      273.0          18335                1155             Abacus  2000  \n",
       "4      368.0          59524                 946  Berkley Hardcover  2006  "
      ]
     },
     "execution_count": 12,
     "metadata": {},
     "output_type": "execute_result"
    }
   ],
   "source": [
    "df.head()"
   ]
  },
  {
   "cell_type": "code",
   "execution_count": 20,
   "id": "f1595fcc",
   "metadata": {},
   "outputs": [
    {
     "name": "stderr",
     "output_type": "stream",
     "text": [
      "/var/folders/zm/bdsm5q2x0013mg_466vd8gnm0000gn/T/ipykernel_47950/3827310455.py:5: SettingWithCopyWarning: \n",
      "A value is trying to be set on a copy of a slice from a DataFrame\n",
      "\n",
      "See the caveats in the documentation: https://pandas.pydata.org/pandas-docs/stable/user_guide/indexing.html#returning-a-view-versus-a-copy\n",
      "  df['author'][cond] = df['author'][cond].str.lower()\n"
     ]
    },
    {
     "data": {
      "text/plain": [
       "array(['victor hugo', 'lidia matticchio bastianich', 'james scott bell',\n",
       "       ..., 'malvina g. vogel', 'michel de montaigne', 'giuliano hazan'],\n",
       "      dtype=object)"
      ]
     },
     "execution_count": 20,
     "metadata": {},
     "output_type": "execute_result"
    }
   ],
   "source": [
    "#Capitalize Brand name\n",
    "#부분적으로 적용 \n",
    "brands = ['Victor Hugo', 'James Scott Bell']\n",
    "cond = df['author'].isin(brands) #is in 또는 ~df\n",
    "df['author'][cond] = df['author'][cond].str.lower()\n",
    "df['author'].unique() # total of 9 brands"
   ]
  },
  {
   "cell_type": "code",
   "execution_count": null,
   "id": "68e8ff18",
   "metadata": {},
   "outputs": [],
   "source": []
  }
 ],
 "metadata": {
  "kernelspec": {
   "display_name": "Python 3 (ipykernel)",
   "language": "python",
   "name": "python3"
  },
  "language_info": {
   "codemirror_mode": {
    "name": "ipython",
    "version": 3
   },
   "file_extension": ".py",
   "mimetype": "text/x-python",
   "name": "python",
   "nbconvert_exporter": "python",
   "pygments_lexer": "ipython3",
   "version": "3.9.7"
  }
 },
 "nbformat": 4,
 "nbformat_minor": 5
}
